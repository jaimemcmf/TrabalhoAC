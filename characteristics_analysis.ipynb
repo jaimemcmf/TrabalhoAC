{
 "cells": [
  {
   "cell_type": "code",
   "execution_count": 2,
   "metadata": {},
   "outputs": [],
   "source": [
    "import openml\n",
    "openml.config.apikey = 'eb60f811ca0d9f4f846d59be082919f9'\n",
    "\n",
    "from tqdm import tqdm\n",
    "\n",
    "import multiprocessing as mp"
   ]
  },
  {
   "cell_type": "code",
   "execution_count": 3,
   "metadata": {},
   "outputs": [],
   "source": [
    "task_ids = [31, 10101, 3913, 3, 3917, 9957, 9946, 3918, 3903, 37, 9971, 9952, 3902, 49, 43, 9978, 10093, 219, 9976, 14965, 6, 9977, 53, 11, 15, 16, 14, 32, 3549, 12, 9981, 18, 28, 2074, 29, 45, 125922, 9960, 9964, 22, 2079,\n",
    "            14969, 3560, 14952, 125920, 23, 3904, 3022, 9985, 9910, 14970, 3021, 3481, 7592, 3573, 146824, 146820, 146822, 146195, 146800, 146817, 146819, 146821, 167119, 14954, 167141, 167140, 167120, 167125, 146825, 167124, 167121]\n"
   ]
  },
  {
   "cell_type": "code",
   "execution_count": 4,
   "metadata": {},
   "outputs": [
    {
     "name": "stderr",
     "output_type": "stream",
     "text": [
      "100%|██████████| 72/72 [00:04<00:00, 15.94it/s]\n"
     ]
    }
   ],
   "source": [
    "def get_dataset_by_task_id(id):\n",
    "    task = openml.tasks.get_task(id)\n",
    "    X, y, categorical_indicator, attribute_names = task.get_dataset().get_data()\n",
    "    return {\n",
    "        'id': id, 'X': X, 'y': y,\n",
    "        'categorical_indicator': categorical_indicator,\n",
    "        'attribute_names': attribute_names\n",
    "    }\n",
    "\n",
    "pool = mp.Pool(mp.cpu_count())\n",
    "datasets = list(tqdm(pool.imap(get_dataset_by_task_id, task_ids), total=len(task_ids)))"
   ]
  },
  {
   "attachments": {},
   "cell_type": "markdown",
   "metadata": {},
   "source": [
    "## Class imbalance"
   ]
  },
  {
   "cell_type": "code",
   "execution_count": 5,
   "metadata": {},
   "outputs": [],
   "source": [
    "class_imbalance_list = []\n",
    "\n",
    "for ds in datasets:\n",
    "    df = ds['X']\n",
    "    last_col = df.columns[-1]\n",
    "    \n",
    "    uniques = df[last_col].unique()\n",
    "    if len(uniques) == 2:\n",
    "        perc = min(len(df[df[last_col] == u]) / len(df) for u in uniques)\n",
    "\n",
    "        id = ds['id']\n",
    "        class_imbalance_list.append({\n",
    "            'id': id,\n",
    "            'perc': perc,\n",
    "            'n_rows': len(df),\n",
    "            'n_cols': df.shape[1]\n",
    "        })"
   ]
  },
  {
   "cell_type": "code",
   "execution_count": 6,
   "metadata": {},
   "outputs": [
    {
     "name": "stdout",
     "output_type": "stream",
     "text": [
      "{'id': 146820, 'perc': 0.05393676379417235, 'n_rows': 4839, 'n_cols': 6}\n",
      "{'id': 3021, 'perc': 0.0612407211028632, 'n_rows': 3772, 'n_cols': 30}\n",
      "{'id': 9978, 'perc': 0.06314127861089187, 'n_rows': 2534, 'n_cols': 73}\n",
      "{'id': 3918, 'perc': 0.06943192064923355, 'n_rows': 1109, 'n_cols': 22}\n",
      "{'id': 146819, 'perc': 0.08518518518518518, 'n_rows': 540, 'n_cols': 19}\n",
      "{'id': 3903, 'perc': 0.10236724248240563, 'n_rows': 1563, 'n_cols': 38}\n",
      "{'id': 14965, 'perc': 0.11698480458295547, 'n_rows': 45211, 'n_cols': 17}\n",
      "{'id': 3902, 'perc': 0.12208504801097393, 'n_rows': 1458, 'n_cols': 38}\n",
      "{'id': 167125, 'perc': 0.13998170173833485, 'n_rows': 3279, 'n_cols': 1559}\n",
      "{'id': 167141, 'perc': 0.1414, 'n_rows': 5000, 'n_cols': 21}\n",
      "{'id': 3917, 'perc': 0.15457562825983878, 'n_rows': 2109, 'n_cols': 22}\n",
      "{'id': 3904, 'perc': 0.1934772622875517, 'n_rows': 10885, 'n_cols': 22}\n",
      "{'id': 3913, 'perc': 0.2049808429118774, 'n_rows': 522, 'n_cols': 22}\n",
      "{'id': 10101, 'perc': 0.23796791443850268, 'n_rows': 748, 'n_cols': 5}\n",
      "{'id': 7592, 'perc': 0.23928176569346055, 'n_rows': 48842, 'n_cols': 15}\n",
      "{'id': 9977, 'perc': 0.2856230958943856, 'n_rows': 34465, 'n_cols': 119}\n",
      "{'id': 9971, 'perc': 0.2864493996569468, 'n_rows': 583, 'n_cols': 11}\n",
      "{'id': 9952, 'perc': 0.2934863064396743, 'n_rows': 5404, 'n_cols': 6}\n",
      "{'id': 31, 'perc': 0.3, 'n_rows': 1000, 'n_cols': 21}\n",
      "{'id': 9957, 'perc': 0.33744075829383885, 'n_rows': 1055, 'n_cols': 42}\n",
      "{'id': 15, 'perc': 0.3447782546494993, 'n_rows': 699, 'n_cols': 10}\n",
      "{'id': 49, 'perc': 0.3465553235908142, 'n_rows': 958, 'n_cols': 10}\n",
      "{'id': 37, 'perc': 0.3489583333333333, 'n_rows': 768, 'n_cols': 9}\n",
      "{'id': 9946, 'perc': 0.37258347978910367, 'n_rows': 569, 'n_cols': 31}\n",
      "{'id': 43, 'perc': 0.39404477287546186, 'n_rows': 4601, 'n_cols': 58}\n",
      "{'id': 125920, 'perc': 0.42, 'n_rows': 500, 'n_cols': 13}\n",
      "{'id': 14954, 'perc': 0.4222222222222222, 'n_rows': 540, 'n_cols': 38}\n",
      "{'id': 219, 'perc': 0.4245453742937853, 'n_rows': 45312, 'n_cols': 9}\n",
      "{'id': 14952, 'perc': 0.44305744007236547, 'n_rows': 11055, 'n_cols': 31}\n",
      "{'id': 10093, 'perc': 0.4446064139941691, 'n_rows': 1372, 'n_cols': 5}\n",
      "{'id': 29, 'perc': 0.4449275362318841, 'n_rows': 690, 'n_cols': 16}\n",
      "{'id': 9910, 'perc': 0.4577446014396161, 'n_rows': 3751, 'n_cols': 1777}\n",
      "{'id': 3, 'perc': 0.47778473091364204, 'n_rows': 3196, 'n_cols': 37}\n",
      "{'id': 167120, 'perc': 0.4948297342192691, 'n_rows': 96320, 'n_cols': 22}\n",
      "{'id': 9976, 'perc': 0.5, 'n_rows': 2600, 'n_cols': 501}\n"
     ]
    }
   ],
   "source": [
    "# print('(id, class_with_least_percentage_of_representation)')\n",
    "# sorted(class_imbalance_dict.items(), key=lambda x: x[1])\n",
    "class_imbalance_list = sorted(class_imbalance_list, key=lambda x: x['perc'])\n",
    "for l in class_imbalance_list:\n",
    "    print(l)"
   ]
  },
  {
   "cell_type": "code",
   "execution_count": 7,
   "metadata": {},
   "outputs": [],
   "source": [
    "from decisiontree import DecisionTree\n",
    "\n",
    "from copy import deepcopy\n",
    "import pandas as pd\n",
    "import numpy as np\n",
    "from sklearn.model_selection import train_test_split\n",
    "\n",
    "import openml\n",
    "with open('apikey.txt', 'r') as f:\n",
    "    openml.config.apikey = f.read()"
   ]
  },
  {
   "cell_type": "code",
   "execution_count": 8,
   "metadata": {},
   "outputs": [
    {
     "name": "stderr",
     "output_type": "stream",
     "text": [
      "100%|██████████| 20/20 [01:34<00:00,  4.71s/it]\n"
     ]
    }
   ],
   "source": [
    "def get_result(dataset):\n",
    "    try:\n",
    "        id = dataset['id']\n",
    "        task = openml.tasks.get_task(id)\n",
    "        data, _, _, _ = task.get_dataset().get_data()\n",
    "        data = data.dropna()\n",
    "\n",
    "        X = data.values[:, :-1]\n",
    "        y = data.values[:, -1]\n",
    "        X_train, X_test, y_train, y_test = train_test_split(X, y, test_size=.33, random_state=42)\n",
    "\n",
    "        max_depth = int(np.sqrt(X.shape[1]))\n",
    "\n",
    "        dt = DecisionTree(max_depth=max_depth, desimbalancer=False)\n",
    "        dt.fit(X_train, y_train)\n",
    "        res_false = dt.evaluate(X_test, y_test)\n",
    "\n",
    "        dt = DecisionTree(max_depth=max_depth, desimbalancer=True)\n",
    "        dt.fit(X_train, y_train)\n",
    "        res_true = dt.evaluate(X_test, y_test)\n",
    "\n",
    "        line = deepcopy(dataset)\n",
    "        line['result_false'] = res_false\n",
    "        line['result_true'] = res_true\n",
    "        \n",
    "        return line\n",
    "    except Exception:\n",
    "        return None\n",
    "    \n",
    "pool = mp.Pool(mp.cpu_count())\n",
    "results = list(tqdm(pool.imap(get_result, class_imbalance_list[:20]), total=20))\n",
    "    "
   ]
  },
  {
   "cell_type": "code",
   "execution_count": 9,
   "metadata": {},
   "outputs": [
    {
     "data": {
      "text/plain": [
       "19"
      ]
     },
     "execution_count": 9,
     "metadata": {},
     "output_type": "execute_result"
    }
   ],
   "source": [
    "results = [r for r in results if r is not None]\n",
    "results\n",
    "len(results)"
   ]
  },
  {
   "cell_type": "code",
   "execution_count": 10,
   "metadata": {},
   "outputs": [],
   "source": [
    "results = results[:10]"
   ]
  },
  {
   "cell_type": "code",
   "execution_count": 11,
   "metadata": {},
   "outputs": [
    {
     "data": {
      "text/html": [
       "<div>\n",
       "<style scoped>\n",
       "    .dataframe tbody tr th:only-of-type {\n",
       "        vertical-align: middle;\n",
       "    }\n",
       "\n",
       "    .dataframe tbody tr th {\n",
       "        vertical-align: top;\n",
       "    }\n",
       "\n",
       "    .dataframe thead th {\n",
       "        text-align: right;\n",
       "    }\n",
       "</style>\n",
       "<table border=\"1\" class=\"dataframe\">\n",
       "  <thead>\n",
       "    <tr style=\"text-align: right;\">\n",
       "      <th></th>\n",
       "      <th>id</th>\n",
       "      <th>perc</th>\n",
       "      <th>n_rows</th>\n",
       "      <th>n_cols</th>\n",
       "      <th>result_false</th>\n",
       "      <th>result_true</th>\n",
       "    </tr>\n",
       "  </thead>\n",
       "  <tbody>\n",
       "    <tr>\n",
       "      <th>0</th>\n",
       "      <td>146820</td>\n",
       "      <td>0.053937</td>\n",
       "      <td>4839</td>\n",
       "      <td>6</td>\n",
       "      <td>0.945523</td>\n",
       "      <td>0.536005</td>\n",
       "    </tr>\n",
       "    <tr>\n",
       "      <th>1</th>\n",
       "      <td>9978</td>\n",
       "      <td>0.063141</td>\n",
       "      <td>2534</td>\n",
       "      <td>73</td>\n",
       "      <td>0.936679</td>\n",
       "      <td>0.734767</td>\n",
       "    </tr>\n",
       "    <tr>\n",
       "      <th>2</th>\n",
       "      <td>3918</td>\n",
       "      <td>0.069432</td>\n",
       "      <td>1109</td>\n",
       "      <td>22</td>\n",
       "      <td>0.918033</td>\n",
       "      <td>0.598361</td>\n",
       "    </tr>\n",
       "    <tr>\n",
       "      <th>3</th>\n",
       "      <td>146819</td>\n",
       "      <td>0.085185</td>\n",
       "      <td>540</td>\n",
       "      <td>19</td>\n",
       "      <td>0.899441</td>\n",
       "      <td>0.625698</td>\n",
       "    </tr>\n",
       "    <tr>\n",
       "      <th>4</th>\n",
       "      <td>3903</td>\n",
       "      <td>0.102367</td>\n",
       "      <td>1563</td>\n",
       "      <td>38</td>\n",
       "      <td>0.889535</td>\n",
       "      <td>0.647287</td>\n",
       "    </tr>\n",
       "    <tr>\n",
       "      <th>5</th>\n",
       "      <td>14965</td>\n",
       "      <td>0.116985</td>\n",
       "      <td>45211</td>\n",
       "      <td>17</td>\n",
       "      <td>0.884249</td>\n",
       "      <td>0.702882</td>\n",
       "    </tr>\n",
       "    <tr>\n",
       "      <th>6</th>\n",
       "      <td>3902</td>\n",
       "      <td>0.122085</td>\n",
       "      <td>1458</td>\n",
       "      <td>38</td>\n",
       "      <td>0.865145</td>\n",
       "      <td>0.661826</td>\n",
       "    </tr>\n",
       "    <tr>\n",
       "      <th>7</th>\n",
       "      <td>167125</td>\n",
       "      <td>0.139982</td>\n",
       "      <td>3279</td>\n",
       "      <td>1559</td>\n",
       "      <td>0.954755</td>\n",
       "      <td>0.946445</td>\n",
       "    </tr>\n",
       "    <tr>\n",
       "      <th>8</th>\n",
       "      <td>167141</td>\n",
       "      <td>0.141400</td>\n",
       "      <td>5000</td>\n",
       "      <td>21</td>\n",
       "      <td>0.858788</td>\n",
       "      <td>0.683030</td>\n",
       "    </tr>\n",
       "    <tr>\n",
       "      <th>9</th>\n",
       "      <td>3917</td>\n",
       "      <td>0.154576</td>\n",
       "      <td>2109</td>\n",
       "      <td>22</td>\n",
       "      <td>0.844828</td>\n",
       "      <td>0.622126</td>\n",
       "    </tr>\n",
       "  </tbody>\n",
       "</table>\n",
       "</div>"
      ],
      "text/plain": [
       "       id      perc  n_rows  n_cols  result_false  result_true\n",
       "0  146820  0.053937    4839       6      0.945523     0.536005\n",
       "1    9978  0.063141    2534      73      0.936679     0.734767\n",
       "2    3918  0.069432    1109      22      0.918033     0.598361\n",
       "3  146819  0.085185     540      19      0.899441     0.625698\n",
       "4    3903  0.102367    1563      38      0.889535     0.647287\n",
       "5   14965  0.116985   45211      17      0.884249     0.702882\n",
       "6    3902  0.122085    1458      38      0.865145     0.661826\n",
       "7  167125  0.139982    3279    1559      0.954755     0.946445\n",
       "8  167141  0.141400    5000      21      0.858788     0.683030\n",
       "9    3917  0.154576    2109      22      0.844828     0.622126"
      ]
     },
     "execution_count": 11,
     "metadata": {},
     "output_type": "execute_result"
    }
   ],
   "source": [
    "original_results_df = pd.DataFrame(results)\n",
    "original_results_df"
   ]
  },
  {
   "cell_type": "code",
   "execution_count": 13,
   "metadata": {},
   "outputs": [
    {
     "ename": "KeyError",
     "evalue": "'imbalance'",
     "output_type": "error",
     "traceback": [
      "\u001b[0;31m---------------------------------------------------------------------------\u001b[0m",
      "\u001b[0;31mKeyError\u001b[0m                                  Traceback (most recent call last)",
      "\u001b[0;32m/tmp/ipykernel_8602/1445439940.py\u001b[0m in \u001b[0;36m<module>\u001b[0;34m\u001b[0m\n\u001b[1;32m      2\u001b[0m \u001b[0;34m\u001b[0m\u001b[0m\n\u001b[1;32m      3\u001b[0m \u001b[0mnew_results\u001b[0m \u001b[0;34m=\u001b[0m \u001b[0;34m[\u001b[0m\u001b[0;34m]\u001b[0m\u001b[0;34m\u001b[0m\u001b[0;34m\u001b[0m\u001b[0m\n\u001b[0;32m----> 4\u001b[0;31m \u001b[0;32mfor\u001b[0m \u001b[0mr\u001b[0m \u001b[0;32min\u001b[0m \u001b[0msorted\u001b[0m\u001b[0;34m(\u001b[0m\u001b[0mresults\u001b[0m\u001b[0;34m,\u001b[0m \u001b[0mkey\u001b[0m\u001b[0;34m=\u001b[0m\u001b[0;32mlambda\u001b[0m \u001b[0mx\u001b[0m\u001b[0;34m:\u001b[0m \u001b[0mx\u001b[0m\u001b[0;34m[\u001b[0m\u001b[0;34m'imbalance'\u001b[0m\u001b[0;34m]\u001b[0m\u001b[0;34m,\u001b[0m \u001b[0mreverse\u001b[0m\u001b[0;34m=\u001b[0m\u001b[0;32mFalse\u001b[0m\u001b[0;34m)\u001b[0m\u001b[0;34m:\u001b[0m\u001b[0;34m\u001b[0m\u001b[0;34m\u001b[0m\u001b[0m\n\u001b[0m\u001b[1;32m      5\u001b[0m     \u001b[0mnew_line1\u001b[0m \u001b[0;34m=\u001b[0m \u001b[0mdeepcopy\u001b[0m\u001b[0;34m(\u001b[0m\u001b[0mr\u001b[0m\u001b[0;34m)\u001b[0m\u001b[0;34m\u001b[0m\u001b[0;34m\u001b[0m\u001b[0m\n\u001b[1;32m      6\u001b[0m     \u001b[0mnew_line2\u001b[0m \u001b[0;34m=\u001b[0m \u001b[0mdeepcopy\u001b[0m\u001b[0;34m(\u001b[0m\u001b[0mr\u001b[0m\u001b[0;34m)\u001b[0m\u001b[0;34m\u001b[0m\u001b[0;34m\u001b[0m\u001b[0m\n",
      "\u001b[0;32m/tmp/ipykernel_8602/1445439940.py\u001b[0m in \u001b[0;36m<lambda>\u001b[0;34m(x)\u001b[0m\n\u001b[1;32m      2\u001b[0m \u001b[0;34m\u001b[0m\u001b[0m\n\u001b[1;32m      3\u001b[0m \u001b[0mnew_results\u001b[0m \u001b[0;34m=\u001b[0m \u001b[0;34m[\u001b[0m\u001b[0;34m]\u001b[0m\u001b[0;34m\u001b[0m\u001b[0;34m\u001b[0m\u001b[0m\n\u001b[0;32m----> 4\u001b[0;31m \u001b[0;32mfor\u001b[0m \u001b[0mr\u001b[0m \u001b[0;32min\u001b[0m \u001b[0msorted\u001b[0m\u001b[0;34m(\u001b[0m\u001b[0mresults\u001b[0m\u001b[0;34m,\u001b[0m \u001b[0mkey\u001b[0m\u001b[0;34m=\u001b[0m\u001b[0;32mlambda\u001b[0m \u001b[0mx\u001b[0m\u001b[0;34m:\u001b[0m \u001b[0mx\u001b[0m\u001b[0;34m[\u001b[0m\u001b[0;34m'imbalance'\u001b[0m\u001b[0;34m]\u001b[0m\u001b[0;34m,\u001b[0m \u001b[0mreverse\u001b[0m\u001b[0;34m=\u001b[0m\u001b[0;32mFalse\u001b[0m\u001b[0;34m)\u001b[0m\u001b[0;34m:\u001b[0m\u001b[0;34m\u001b[0m\u001b[0;34m\u001b[0m\u001b[0m\n\u001b[0m\u001b[1;32m      5\u001b[0m     \u001b[0mnew_line1\u001b[0m \u001b[0;34m=\u001b[0m \u001b[0mdeepcopy\u001b[0m\u001b[0;34m(\u001b[0m\u001b[0mr\u001b[0m\u001b[0;34m)\u001b[0m\u001b[0;34m\u001b[0m\u001b[0;34m\u001b[0m\u001b[0m\n\u001b[1;32m      6\u001b[0m     \u001b[0mnew_line2\u001b[0m \u001b[0;34m=\u001b[0m \u001b[0mdeepcopy\u001b[0m\u001b[0;34m(\u001b[0m\u001b[0mr\u001b[0m\u001b[0;34m)\u001b[0m\u001b[0;34m\u001b[0m\u001b[0;34m\u001b[0m\u001b[0m\n",
      "\u001b[0;31mKeyError\u001b[0m: 'imbalance'"
     ]
    }
   ],
   "source": [
    "import plotly.express as px\n",
    "\n",
    "new_results = []\n",
    "for r in sorted(results, key=lambda x: x['imbalance'], reverse=False):\n",
    "    new_line1 = deepcopy(r)\n",
    "    new_line2 = deepcopy(r)\n",
    "\n",
    "    new_line1['desimbalancer'] = False\n",
    "    new_line1['result'] = new_line1['result_false']\n",
    "    del new_line1['result_false']\n",
    "    del new_line1['result_true']\n",
    "\n",
    "    new_line2['desimbalancer'] = True\n",
    "    new_line2['result'] = new_line2['result_true']\n",
    "    del new_line2['result_false']\n",
    "    del new_line2['result_true']\n",
    "\n",
    "    new_results.append(new_line1)\n",
    "    new_results.append(new_line2)\n",
    "\n",
    "results_df = pd.DataFrame(new_results)\n",
    "results_df['id'] = results_df['id'].astype(str)\n",
    "\n",
    "fig = px.bar(results_df, x='id', y='result', color='desimbalancer', barmode='group',\n",
    "    #    title='Quantidade de memória utilizada por tabuleiro',\n",
    "    #    labels={\n",
    "    #         'game_id': 'Identificador do tabuleiro',\n",
    "    #         'memory_used': 'Quantidade de blocos de memória utilizada',\n",
    "    #         'alg': 'Algoritmo'\n",
    "    #    }\n",
    "    custom_data=['result', 'imbalance', 'n_rows', 'n_cols']\n",
    ")\n",
    "\n",
    "fig.update_traces(\n",
    "    hovertemplate=\"<br>\".join([\n",
    "        \"Evaluation: %{customdata[0]:.4f}\",\n",
    "        \"Imbalance: %{customdata[1]:.4f}\",\n",
    "        \"N Rows: %{customdata[2]}\",\n",
    "        \"N Cols: %{customdata[3]}\",\n",
    "    ])\n",
    ")"
   ]
  },
  {
   "attachments": {},
   "cell_type": "markdown",
   "metadata": {},
   "source": [
    "## Amount of labels"
   ]
  },
  {
   "cell_type": "code",
   "execution_count": 10,
   "metadata": {},
   "outputs": [],
   "source": [
    "n_labels_dict = dict()\n",
    "\n",
    "for ds in datasets:\n",
    "    df = ds['X']\n",
    "    id = ds['id']\n",
    "    last_col = df.columns[-1]\n",
    "    n_labels_dict[id] = len(df[last_col].unique())"
   ]
  },
  {
   "cell_type": "code",
   "execution_count": 12,
   "metadata": {},
   "outputs": [
    {
     "name": "stdout",
     "output_type": "stream",
     "text": [
      "(id, n_labels)\n"
     ]
    },
    {
     "data": {
      "text/plain": [
       "[(167121, 46),\n",
       " (6, 26),\n",
       " (3481, 26),\n",
       " (125922, 11),\n",
       " (3022, 11),\n",
       " (16, 10),\n",
       " (14, 10),\n",
       " (32, 10),\n",
       " (12, 10),\n",
       " (18, 10),\n",
       " (28, 10),\n",
       " (9964, 10),\n",
       " (22, 10),\n",
       " (3573, 10),\n",
       " (146824, 10),\n",
       " (146825, 10),\n",
       " (167124, 10),\n",
       " (9981, 9),\n",
       " (146800, 8),\n",
       " (146822, 7),\n",
       " (146817, 7),\n",
       " (2074, 6),\n",
       " (3560, 6),\n",
       " (9985, 6),\n",
       " (14970, 6),\n",
       " (2079, 5),\n",
       " (14969, 5),\n",
       " (53, 4),\n",
       " (3549, 4),\n",
       " (9960, 4),\n",
       " (146821, 4),\n",
       " (11, 3),\n",
       " (45, 3),\n",
       " (23, 3),\n",
       " (146195, 3),\n",
       " (167119, 3),\n",
       " (167140, 3),\n",
       " (31, 2),\n",
       " (10101, 2),\n",
       " (3913, 2),\n",
       " (3, 2),\n",
       " (3917, 2),\n",
       " (9957, 2),\n",
       " (9946, 2),\n",
       " (3918, 2),\n",
       " (3903, 2),\n",
       " (37, 2),\n",
       " (9971, 2),\n",
       " (9952, 2),\n",
       " (3902, 2),\n",
       " (49, 2),\n",
       " (43, 2),\n",
       " (9978, 2),\n",
       " (10093, 2),\n",
       " (219, 2),\n",
       " (9976, 2),\n",
       " (14965, 2),\n",
       " (9977, 2),\n",
       " (15, 2),\n",
       " (29, 2),\n",
       " (14952, 2),\n",
       " (125920, 2),\n",
       " (3904, 2),\n",
       " (9910, 2),\n",
       " (3021, 2),\n",
       " (7592, 2),\n",
       " (146820, 2),\n",
       " (146819, 2),\n",
       " (14954, 2),\n",
       " (167141, 2),\n",
       " (167120, 2),\n",
       " (167125, 2)]"
      ]
     },
     "execution_count": 12,
     "metadata": {},
     "output_type": "execute_result"
    }
   ],
   "source": [
    "print('(id, n_labels)')\n",
    "sorted(n_labels_dict.items(), key=lambda x: x[1], reverse=True)"
   ]
  }
 ],
 "metadata": {
  "kernelspec": {
   "display_name": "base",
   "language": "python",
   "name": "python3"
  },
  "language_info": {
   "codemirror_mode": {
    "name": "ipython",
    "version": 3
   },
   "file_extension": ".py",
   "mimetype": "text/x-python",
   "name": "python",
   "nbconvert_exporter": "python",
   "pygments_lexer": "ipython3",
   "version": "3.9.5"
  },
  "orig_nbformat": 4,
  "vscode": {
   "interpreter": {
    "hash": "521bd52f7db69f83952e45c69a41cc5a9312142da056b7c563e70a654200e62d"
   }
  }
 },
 "nbformat": 4,
 "nbformat_minor": 2
}
