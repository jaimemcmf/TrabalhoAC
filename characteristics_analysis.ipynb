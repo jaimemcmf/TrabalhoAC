{
 "cells": [
  {
   "cell_type": "code",
   "execution_count": 2,
   "metadata": {},
   "outputs": [],
   "source": [
    "import openml\n",
    "openml.config.apikey = 'eb60f811ca0d9f4f846d59be082919f9'\n",
    "\n",
    "from tqdm import tqdm\n",
    "\n",
    "import multiprocessing as mp"
   ]
  },
  {
   "cell_type": "code",
   "execution_count": 3,
   "metadata": {},
   "outputs": [],
   "source": [
    "task_ids = [31, 10101, 3913, 3, 3917, 9957, 9946, 3918, 3903, 37, 9971, 9952, 3902, 49, 43, 9978, 10093, 219, 9976, 14965, 6, 9977, 53, 11, 15, 16, 14, 32, 3549, 12, 9981, 18, 28, 2074, 29, 45, 125922, 9960, 9964, 22, 2079,\n",
    "            14969, 3560, 14952, 125920, 23, 3904, 3022, 9985, 9910, 14970, 3021, 3481, 7592, 3573, 146824, 146820, 146822, 146195, 146800, 146817, 146819, 146821, 167119, 14954, 167141, 167140, 167120, 167125, 146825, 167124, 167121]\n"
   ]
  },
  {
   "cell_type": "code",
   "execution_count": 5,
   "metadata": {},
   "outputs": [
    {
     "name": "stderr",
     "output_type": "stream",
     "text": [
      " 96%|█████████▌| 69/72 [00:18<00:00, 20.96it/s]WARNING:openml.datasets.functions:Could not download file from http://openml1.win.tue.nl/dataset40927/dataset_40927.pq: [Errno 2] No such file or directory: '/home/matheus/.cache/openml/org/openml/www/datasets/40927/dataset_40927.pq.a97d2bd4b871cf8b227751894ae8df93-37.part.minio' -> '/home/matheus/.cache/openml/org/openml/www/datasets/40927/dataset_40927.pq'\n",
      "100%|██████████| 72/72 [03:20<00:00,  2.79s/it]\n"
     ]
    }
   ],
   "source": [
    "def get_dataset_by_task_id(id):\n",
    "    task = openml.tasks.get_task(id)\n",
    "    X, y, categorical_indicator, attribute_names = task.get_dataset().get_data()\n",
    "    return {\n",
    "        'id': id, 'X': X, 'y': y,\n",
    "        'categorical_indicator': categorical_indicator,\n",
    "        'attribute_names': attribute_names\n",
    "    }\n",
    "\n",
    "pool = mp.Pool(mp.cpu_count())\n",
    "datasets = list(tqdm(pool.imap(get_dataset_by_task_id, task_ids), total=len(task_ids)))"
   ]
  },
  {
   "attachments": {},
   "cell_type": "markdown",
   "metadata": {},
   "source": [
    "## Class imbalance"
   ]
  },
  {
   "cell_type": "code",
   "execution_count": 7,
   "metadata": {},
   "outputs": [],
   "source": [
    "class_imbalance_dict = dict()\n",
    "\n",
    "for ds in datasets:\n",
    "    df = ds['X']\n",
    "    last_col = df.columns[-1]\n",
    "    \n",
    "    uniques = df[last_col].unique()\n",
    "    if len(uniques) == 2:\n",
    "        perc = min(len(df[df[last_col] == u]) / len(df) for u in uniques)\n",
    "\n",
    "        id = ds['id']\n",
    "        class_imbalance_dict[id] = perc"
   ]
  },
  {
   "cell_type": "code",
   "execution_count": 13,
   "metadata": {},
   "outputs": [
    {
     "name": "stdout",
     "output_type": "stream",
     "text": [
      "(id, class_with_least_percetage_of_representation)\n"
     ]
    },
    {
     "data": {
      "text/plain": [
       "[(146820, 0.05393676379417235),\n",
       " (3021, 0.0612407211028632),\n",
       " (9978, 0.06314127861089187),\n",
       " (3918, 0.06943192064923355),\n",
       " (146819, 0.08518518518518518),\n",
       " (3903, 0.10236724248240563),\n",
       " (14965, 0.11698480458295547),\n",
       " (3902, 0.12208504801097393),\n",
       " (167125, 0.13998170173833485),\n",
       " (167141, 0.1414),\n",
       " (3917, 0.15457562825983878),\n",
       " (3904, 0.1934772622875517),\n",
       " (3913, 0.2049808429118774),\n",
       " (10101, 0.23796791443850268),\n",
       " (7592, 0.23928176569346055),\n",
       " (9977, 0.2856230958943856),\n",
       " (9971, 0.2864493996569468),\n",
       " (9952, 0.2934863064396743),\n",
       " (31, 0.3),\n",
       " (9957, 0.33744075829383885),\n",
       " (15, 0.3447782546494993),\n",
       " (49, 0.3465553235908142),\n",
       " (37, 0.3489583333333333),\n",
       " (9946, 0.37258347978910367),\n",
       " (43, 0.39404477287546186),\n",
       " (125920, 0.42),\n",
       " (14954, 0.4222222222222222),\n",
       " (219, 0.4245453742937853),\n",
       " (14952, 0.44305744007236547),\n",
       " (10093, 0.4446064139941691),\n",
       " (29, 0.4449275362318841),\n",
       " (9910, 0.4577446014396161),\n",
       " (3, 0.47778473091364204),\n",
       " (167120, 0.4948297342192691),\n",
       " (9976, 0.5)]"
      ]
     },
     "execution_count": 13,
     "metadata": {},
     "output_type": "execute_result"
    }
   ],
   "source": [
    "print('(id, class_with_least_percetage_of_representation)')\n",
    "sorted(class_imbalance_dict.items(), key=lambda x: x[1])"
   ]
  },
  {
   "attachments": {},
   "cell_type": "markdown",
   "metadata": {},
   "source": [
    "## Amount of labels"
   ]
  },
  {
   "cell_type": "code",
   "execution_count": 10,
   "metadata": {},
   "outputs": [],
   "source": [
    "n_labels_dict = dict()\n",
    "\n",
    "for ds in datasets:\n",
    "    df = ds['X']\n",
    "    id = ds['id']\n",
    "    last_col = df.columns[-1]\n",
    "    n_labels_dict[id] = len(df[last_col].unique())"
   ]
  },
  {
   "cell_type": "code",
   "execution_count": 12,
   "metadata": {},
   "outputs": [
    {
     "name": "stdout",
     "output_type": "stream",
     "text": [
      "(id, n_labels)\n"
     ]
    },
    {
     "data": {
      "text/plain": [
       "[(167121, 46),\n",
       " (6, 26),\n",
       " (3481, 26),\n",
       " (125922, 11),\n",
       " (3022, 11),\n",
       " (16, 10),\n",
       " (14, 10),\n",
       " (32, 10),\n",
       " (12, 10),\n",
       " (18, 10),\n",
       " (28, 10),\n",
       " (9964, 10),\n",
       " (22, 10),\n",
       " (3573, 10),\n",
       " (146824, 10),\n",
       " (146825, 10),\n",
       " (167124, 10),\n",
       " (9981, 9),\n",
       " (146800, 8),\n",
       " (146822, 7),\n",
       " (146817, 7),\n",
       " (2074, 6),\n",
       " (3560, 6),\n",
       " (9985, 6),\n",
       " (14970, 6),\n",
       " (2079, 5),\n",
       " (14969, 5),\n",
       " (53, 4),\n",
       " (3549, 4),\n",
       " (9960, 4),\n",
       " (146821, 4),\n",
       " (11, 3),\n",
       " (45, 3),\n",
       " (23, 3),\n",
       " (146195, 3),\n",
       " (167119, 3),\n",
       " (167140, 3),\n",
       " (31, 2),\n",
       " (10101, 2),\n",
       " (3913, 2),\n",
       " (3, 2),\n",
       " (3917, 2),\n",
       " (9957, 2),\n",
       " (9946, 2),\n",
       " (3918, 2),\n",
       " (3903, 2),\n",
       " (37, 2),\n",
       " (9971, 2),\n",
       " (9952, 2),\n",
       " (3902, 2),\n",
       " (49, 2),\n",
       " (43, 2),\n",
       " (9978, 2),\n",
       " (10093, 2),\n",
       " (219, 2),\n",
       " (9976, 2),\n",
       " (14965, 2),\n",
       " (9977, 2),\n",
       " (15, 2),\n",
       " (29, 2),\n",
       " (14952, 2),\n",
       " (125920, 2),\n",
       " (3904, 2),\n",
       " (9910, 2),\n",
       " (3021, 2),\n",
       " (7592, 2),\n",
       " (146820, 2),\n",
       " (146819, 2),\n",
       " (14954, 2),\n",
       " (167141, 2),\n",
       " (167120, 2),\n",
       " (167125, 2)]"
      ]
     },
     "execution_count": 12,
     "metadata": {},
     "output_type": "execute_result"
    }
   ],
   "source": [
    "print('(id, n_labels)')\n",
    "sorted(n_labels_dict.items(), key=lambda x: x[1], reverse=True)"
   ]
  }
 ],
 "metadata": {
  "kernelspec": {
   "display_name": "base",
   "language": "python",
   "name": "python3"
  },
  "language_info": {
   "codemirror_mode": {
    "name": "ipython",
    "version": 3
   },
   "file_extension": ".py",
   "mimetype": "text/x-python",
   "name": "python",
   "nbconvert_exporter": "python",
   "pygments_lexer": "ipython3",
   "version": "3.9.5"
  },
  "orig_nbformat": 4,
  "vscode": {
   "interpreter": {
    "hash": "521bd52f7db69f83952e45c69a41cc5a9312142da056b7c563e70a654200e62d"
   }
  }
 },
 "nbformat": 4,
 "nbformat_minor": 2
}
