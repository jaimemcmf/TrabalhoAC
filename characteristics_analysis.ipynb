{
 "cells": [
  {
   "cell_type": "code",
   "execution_count": 1,
   "metadata": {},
   "outputs": [],
   "source": [
    "import openml\n",
    "openml.config.apikey = 'eb60f811ca0d9f4f846d59be082919f9'\n",
    "\n",
    "from tqdm import tqdm\n",
    "\n",
    "import multiprocessing as mp"
   ]
  },
  {
   "cell_type": "code",
   "execution_count": 2,
   "metadata": {},
   "outputs": [],
   "source": [
    "task_ids = [31, 10101, 3913, 3, 3917, 9957, 9946, 3918, 3903, 37, 9971, 9952, 3902, 49, 43, 9978, 10093, 219, 9976, 14965, 6, 9977, 53, 11, 15, 16, 14, 32, 3549, 12, 9981, 18, 28, 2074, 29, 45, 125922, 9960, 9964, 22, 2079,\n",
    "            14969, 3560, 14952, 125920, 23, 3904, 3022, 9985, 9910, 14970, 3021, 3481, 7592, 3573, 146824, 146820, 146822, 146195, 146800, 146817, 146819, 146821, 167119, 14954, 167141, 167140, 167120, 167125, 146825, 167124, 167121]\n"
   ]
  },
  {
   "cell_type": "code",
   "execution_count": 3,
   "metadata": {},
   "outputs": [
    {
     "name": "stderr",
     "output_type": "stream",
     "text": [
      "100%|██████████| 72/72 [00:06<00:00, 11.30it/s]\n"
     ]
    }
   ],
   "source": [
    "def get_dataset_by_task_id(id):\n",
    "    task = openml.tasks.get_task(id)\n",
    "    X, y, categorical_indicator, attribute_names = task.get_dataset().get_data()\n",
    "    return {\n",
    "        'id': id, 'X': X, 'y': y,\n",
    "        'categorical_indicator': categorical_indicator,\n",
    "        'attribute_names': attribute_names\n",
    "    }\n",
    "\n",
    "pool = mp.Pool(mp.cpu_count())\n",
    "datasets = list(tqdm(pool.imap(get_dataset_by_task_id, task_ids), total=len(task_ids)))"
   ]
  },
  {
   "attachments": {},
   "cell_type": "markdown",
   "metadata": {},
   "source": [
    "## Class imbalance"
   ]
  },
  {
   "cell_type": "code",
   "execution_count": 4,
   "metadata": {},
   "outputs": [],
   "source": [
    "class_imbalance_list = []\n",
    "\n",
    "for ds in datasets:\n",
    "    df = ds['X']\n",
    "    last_col = df.columns[-1]\n",
    "    \n",
    "    uniques = df[last_col].unique()\n",
    "    if len(uniques) == 2:\n",
    "        perc = min(len(df[df[last_col] == u]) / len(df) for u in uniques)\n",
    "\n",
    "        id = ds['id']\n",
    "        class_imbalance_list.append({\n",
    "            'id': id,\n",
    "            'perc': perc,\n",
    "            'n_rows': len(df),\n",
    "            'n_cols': df.shape[1]\n",
    "        })"
   ]
  },
  {
   "cell_type": "code",
   "execution_count": 5,
   "metadata": {},
   "outputs": [
    {
     "name": "stdout",
     "output_type": "stream",
     "text": [
      "{'id': 146820, 'perc': 0.05393676379417235, 'n_rows': 4839, 'n_cols': 6}\n",
      "{'id': 3021, 'perc': 0.0612407211028632, 'n_rows': 3772, 'n_cols': 30}\n",
      "{'id': 9978, 'perc': 0.06314127861089187, 'n_rows': 2534, 'n_cols': 73}\n",
      "{'id': 3918, 'perc': 0.06943192064923355, 'n_rows': 1109, 'n_cols': 22}\n",
      "{'id': 146819, 'perc': 0.08518518518518518, 'n_rows': 540, 'n_cols': 19}\n",
      "{'id': 3903, 'perc': 0.10236724248240563, 'n_rows': 1563, 'n_cols': 38}\n",
      "{'id': 14965, 'perc': 0.11698480458295547, 'n_rows': 45211, 'n_cols': 17}\n",
      "{'id': 3902, 'perc': 0.12208504801097393, 'n_rows': 1458, 'n_cols': 38}\n",
      "{'id': 167125, 'perc': 0.13998170173833485, 'n_rows': 3279, 'n_cols': 1559}\n",
      "{'id': 167141, 'perc': 0.1414, 'n_rows': 5000, 'n_cols': 21}\n",
      "{'id': 3917, 'perc': 0.15457562825983878, 'n_rows': 2109, 'n_cols': 22}\n",
      "{'id': 3904, 'perc': 0.1934772622875517, 'n_rows': 10885, 'n_cols': 22}\n",
      "{'id': 3913, 'perc': 0.2049808429118774, 'n_rows': 522, 'n_cols': 22}\n",
      "{'id': 10101, 'perc': 0.23796791443850268, 'n_rows': 748, 'n_cols': 5}\n",
      "{'id': 7592, 'perc': 0.23928176569346055, 'n_rows': 48842, 'n_cols': 15}\n",
      "{'id': 9977, 'perc': 0.2856230958943856, 'n_rows': 34465, 'n_cols': 119}\n",
      "{'id': 9971, 'perc': 0.2864493996569468, 'n_rows': 583, 'n_cols': 11}\n",
      "{'id': 9952, 'perc': 0.2934863064396743, 'n_rows': 5404, 'n_cols': 6}\n",
      "{'id': 31, 'perc': 0.3, 'n_rows': 1000, 'n_cols': 21}\n",
      "{'id': 9957, 'perc': 0.33744075829383885, 'n_rows': 1055, 'n_cols': 42}\n",
      "{'id': 15, 'perc': 0.3447782546494993, 'n_rows': 699, 'n_cols': 10}\n",
      "{'id': 49, 'perc': 0.3465553235908142, 'n_rows': 958, 'n_cols': 10}\n",
      "{'id': 37, 'perc': 0.3489583333333333, 'n_rows': 768, 'n_cols': 9}\n",
      "{'id': 9946, 'perc': 0.37258347978910367, 'n_rows': 569, 'n_cols': 31}\n",
      "{'id': 43, 'perc': 0.39404477287546186, 'n_rows': 4601, 'n_cols': 58}\n",
      "{'id': 125920, 'perc': 0.42, 'n_rows': 500, 'n_cols': 13}\n",
      "{'id': 14954, 'perc': 0.4222222222222222, 'n_rows': 540, 'n_cols': 38}\n",
      "{'id': 219, 'perc': 0.4245453742937853, 'n_rows': 45312, 'n_cols': 9}\n",
      "{'id': 14952, 'perc': 0.44305744007236547, 'n_rows': 11055, 'n_cols': 31}\n",
      "{'id': 10093, 'perc': 0.4446064139941691, 'n_rows': 1372, 'n_cols': 5}\n",
      "{'id': 29, 'perc': 0.4449275362318841, 'n_rows': 690, 'n_cols': 16}\n",
      "{'id': 9910, 'perc': 0.4577446014396161, 'n_rows': 3751, 'n_cols': 1777}\n",
      "{'id': 3, 'perc': 0.47778473091364204, 'n_rows': 3196, 'n_cols': 37}\n",
      "{'id': 167120, 'perc': 0.4948297342192691, 'n_rows': 96320, 'n_cols': 22}\n",
      "{'id': 9976, 'perc': 0.5, 'n_rows': 2600, 'n_cols': 501}\n"
     ]
    }
   ],
   "source": [
    "# print('(id, class_with_least_percentage_of_representation)')\n",
    "# sorted(class_imbalance_dict.items(), key=lambda x: x[1])\n",
    "class_imbalance_list = sorted(class_imbalance_list, key=lambda x: x['perc'])\n",
    "for l in class_imbalance_list:\n",
    "    print(l)"
   ]
  },
  {
   "cell_type": "code",
   "execution_count": 6,
   "metadata": {},
   "outputs": [],
   "source": [
    "from decisiontree import DecisionTree\n",
    "\n",
    "from copy import deepcopy\n",
    "import pandas as pd\n",
    "import numpy as np\n",
    "from sklearn.model_selection import train_test_split\n",
    "\n",
    "import openml\n",
    "openml.config.apikey = 'eb60f811ca0d9f4f846d59be082919f9'"
   ]
  },
  {
   "cell_type": "code",
   "execution_count": 24,
   "metadata": {},
   "outputs": [
    {
     "name": "stderr",
     "output_type": "stream",
     "text": [
      "100%|██████████| 20/20 [02:39<00:00,  7.98s/it]\n"
     ]
    }
   ],
   "source": [
    "def get_result(dataset):\n",
    "    try:\n",
    "        id = dataset['id']\n",
    "        task = openml.tasks.get_task(id)\n",
    "        data, _, _, _ = task.get_dataset().get_data()\n",
    "        data = data.dropna()\n",
    "\n",
    "        X = data.values[:, :-1]\n",
    "        y = data.values[:, -1]\n",
    "        X_train, X_test, y_train, y_test = train_test_split(X, y, test_size=.33, random_state=42)\n",
    "\n",
    "        max_depth = int(np.sqrt(X.shape[1]))\n",
    "\n",
    "        dt = DecisionTree(max_depth=max_depth, desimbalancer=False)\n",
    "        dt.fit(X_train, y_train)\n",
    "        res_false = dt.evaluate(X_test, y_test)\n",
    "\n",
    "        dt = DecisionTree(max_depth=max_depth, desimbalancer=True)\n",
    "        dt.fit(X_train, y_train)\n",
    "        res_true = dt.evaluate(X_test, y_test)\n",
    "\n",
    "        line = deepcopy(dataset)\n",
    "        line['result_false'] = res_false\n",
    "        line['result_true'] = res_true\n",
    "        \n",
    "        return line\n",
    "    except Exception:\n",
    "        return None\n",
    "    \n",
    "pool = mp.Pool(mp.cpu_count())\n",
    "results = list(tqdm(pool.imap(get_result, class_imbalance_list[:20]), total=20))\n",
    "    "
   ]
  },
  {
   "cell_type": "code",
   "execution_count": 33,
   "metadata": {},
   "outputs": [
    {
     "data": {
      "text/plain": [
       "19"
      ]
     },
     "execution_count": 33,
     "metadata": {},
     "output_type": "execute_result"
    }
   ],
   "source": [
    "results = [r for r in results if r is not None]\n",
    "results\n",
    "len(results)"
   ]
  },
  {
   "cell_type": "code",
   "execution_count": 36,
   "metadata": {},
   "outputs": [],
   "source": [
    "results = results[:10]"
   ]
  },
  {
   "cell_type": "code",
   "execution_count": 37,
   "metadata": {},
   "outputs": [
    {
     "data": {
      "text/html": [
       "<div>\n",
       "<style scoped>\n",
       "    .dataframe tbody tr th:only-of-type {\n",
       "        vertical-align: middle;\n",
       "    }\n",
       "\n",
       "    .dataframe tbody tr th {\n",
       "        vertical-align: top;\n",
       "    }\n",
       "\n",
       "    .dataframe thead th {\n",
       "        text-align: right;\n",
       "    }\n",
       "</style>\n",
       "<table border=\"1\" class=\"dataframe\">\n",
       "  <thead>\n",
       "    <tr style=\"text-align: right;\">\n",
       "      <th></th>\n",
       "      <th>id</th>\n",
       "      <th>perc</th>\n",
       "      <th>n_rows</th>\n",
       "      <th>n_cols</th>\n",
       "      <th>result_false</th>\n",
       "      <th>result_true</th>\n",
       "    </tr>\n",
       "  </thead>\n",
       "  <tbody>\n",
       "    <tr>\n",
       "      <th>0</th>\n",
       "      <td>146820</td>\n",
       "      <td>0.053937</td>\n",
       "      <td>4839</td>\n",
       "      <td>6</td>\n",
       "      <td>0.945523</td>\n",
       "      <td>0.536005</td>\n",
       "    </tr>\n",
       "    <tr>\n",
       "      <th>1</th>\n",
       "      <td>9978</td>\n",
       "      <td>0.063141</td>\n",
       "      <td>2534</td>\n",
       "      <td>73</td>\n",
       "      <td>0.936679</td>\n",
       "      <td>0.734767</td>\n",
       "    </tr>\n",
       "    <tr>\n",
       "      <th>2</th>\n",
       "      <td>3918</td>\n",
       "      <td>0.069432</td>\n",
       "      <td>1109</td>\n",
       "      <td>22</td>\n",
       "      <td>0.918033</td>\n",
       "      <td>0.598361</td>\n",
       "    </tr>\n",
       "    <tr>\n",
       "      <th>3</th>\n",
       "      <td>146819</td>\n",
       "      <td>0.085185</td>\n",
       "      <td>540</td>\n",
       "      <td>19</td>\n",
       "      <td>0.899441</td>\n",
       "      <td>0.625698</td>\n",
       "    </tr>\n",
       "    <tr>\n",
       "      <th>4</th>\n",
       "      <td>3903</td>\n",
       "      <td>0.102367</td>\n",
       "      <td>1563</td>\n",
       "      <td>38</td>\n",
       "      <td>0.889535</td>\n",
       "      <td>0.647287</td>\n",
       "    </tr>\n",
       "    <tr>\n",
       "      <th>5</th>\n",
       "      <td>14965</td>\n",
       "      <td>0.116985</td>\n",
       "      <td>45211</td>\n",
       "      <td>17</td>\n",
       "      <td>0.885389</td>\n",
       "      <td>0.702480</td>\n",
       "    </tr>\n",
       "    <tr>\n",
       "      <th>6</th>\n",
       "      <td>3902</td>\n",
       "      <td>0.122085</td>\n",
       "      <td>1458</td>\n",
       "      <td>38</td>\n",
       "      <td>0.865145</td>\n",
       "      <td>0.661826</td>\n",
       "    </tr>\n",
       "    <tr>\n",
       "      <th>7</th>\n",
       "      <td>167125</td>\n",
       "      <td>0.139982</td>\n",
       "      <td>3279</td>\n",
       "      <td>1559</td>\n",
       "      <td>0.954755</td>\n",
       "      <td>0.946445</td>\n",
       "    </tr>\n",
       "    <tr>\n",
       "      <th>8</th>\n",
       "      <td>167141</td>\n",
       "      <td>0.141400</td>\n",
       "      <td>5000</td>\n",
       "      <td>21</td>\n",
       "      <td>0.858788</td>\n",
       "      <td>0.683030</td>\n",
       "    </tr>\n",
       "    <tr>\n",
       "      <th>9</th>\n",
       "      <td>3917</td>\n",
       "      <td>0.154576</td>\n",
       "      <td>2109</td>\n",
       "      <td>22</td>\n",
       "      <td>0.844828</td>\n",
       "      <td>0.622126</td>\n",
       "    </tr>\n",
       "  </tbody>\n",
       "</table>\n",
       "</div>"
      ],
      "text/plain": [
       "       id      perc  n_rows  n_cols  result_false  result_true\n",
       "0  146820  0.053937    4839       6      0.945523     0.536005\n",
       "1    9978  0.063141    2534      73      0.936679     0.734767\n",
       "2    3918  0.069432    1109      22      0.918033     0.598361\n",
       "3  146819  0.085185     540      19      0.899441     0.625698\n",
       "4    3903  0.102367    1563      38      0.889535     0.647287\n",
       "5   14965  0.116985   45211      17      0.885389     0.702480\n",
       "6    3902  0.122085    1458      38      0.865145     0.661826\n",
       "7  167125  0.139982    3279    1559      0.954755     0.946445\n",
       "8  167141  0.141400    5000      21      0.858788     0.683030\n",
       "9    3917  0.154576    2109      22      0.844828     0.622126"
      ]
     },
     "execution_count": 37,
     "metadata": {},
     "output_type": "execute_result"
    }
   ],
   "source": [
    "original_results_df = pd.DataFrame(results)\n",
    "original_results_df"
   ]
  },
  {
   "cell_type": "code",
   "execution_count": 44,
   "metadata": {},
   "outputs": [
    {
     "data": {
      "application/vnd.plotly.v1+json": {
       "config": {
        "plotlyServerURL": "https://plot.ly"
       },
       "data": [
        {
         "alignmentgroup": "True",
         "customdata": [
          [
           0.9455228553537883,
           0.05393676379417235,
           4839,
           6
          ],
          [
           0.9366786140979689,
           0.06314127861089187,
           2534,
           73
          ],
          [
           0.9180327868852459,
           0.06943192064923355,
           1109,
           22
          ],
          [
           0.8994413407821229,
           0.08518518518518518,
           540,
           19
          ],
          [
           0.8895348837209303,
           0.10236724248240563,
           1563,
           38
          ],
          [
           0.8853887399463807,
           0.11698480458295547,
           45211,
           17
          ],
          [
           0.8651452282157677,
           0.12208504801097393,
           1458,
           38
          ],
          [
           0.9547553093259464,
           0.13998170173833485,
           3279,
           1559
          ],
          [
           0.8587878787878788,
           0.1414,
           5000,
           21
          ],
          [
           0.8448275862068966,
           0.15457562825983878,
           2109,
           22
          ]
         ],
         "hovertemplate": "Evaluation: %{customdata[0]:.4f}<br>Imbalance: %{customdata[1]:.4f}<br>N Rows: %{customdata[2]}<br>N Cols: %{customdata[3]}",
         "legendgroup": "False",
         "marker": {
          "color": "#636efa",
          "pattern": {
           "shape": ""
          }
         },
         "name": "False",
         "offsetgroup": "False",
         "orientation": "v",
         "showlegend": true,
         "textposition": "auto",
         "type": "bar",
         "x": [
          "146820",
          "9978",
          "3918",
          "146819",
          "3903",
          "14965",
          "3902",
          "167125",
          "167141",
          "3917"
         ],
         "xaxis": "x",
         "y": [
          0.9455228553537883,
          0.9366786140979689,
          0.9180327868852459,
          0.8994413407821229,
          0.8895348837209303,
          0.8853887399463807,
          0.8651452282157677,
          0.9547553093259464,
          0.8587878787878788,
          0.8448275862068966
         ],
         "yaxis": "y"
        },
        {
         "alignmentgroup": "True",
         "customdata": [
          [
           0.5360050093926112,
           0.05393676379417235,
           4839,
           6
          ],
          [
           0.7347670250896058,
           0.06314127861089187,
           2534,
           73
          ],
          [
           0.5983606557377049,
           0.06943192064923355,
           1109,
           22
          ],
          [
           0.6256983240223464,
           0.08518518518518518,
           540,
           19
          ],
          [
           0.6472868217054264,
           0.10236724248240563,
           1563,
           38
          ],
          [
           0.7024798927613941,
           0.11698480458295547,
           45211,
           17
          ],
          [
           0.6618257261410788,
           0.12208504801097393,
           1458,
           38
          ],
          [
           0.9464450600184672,
           0.13998170173833485,
           3279,
           1559
          ],
          [
           0.683030303030303,
           0.1414,
           5000,
           21
          ],
          [
           0.6221264367816092,
           0.15457562825983878,
           2109,
           22
          ]
         ],
         "hovertemplate": "Evaluation: %{customdata[0]:.4f}<br>Imbalance: %{customdata[1]:.4f}<br>N Rows: %{customdata[2]}<br>N Cols: %{customdata[3]}",
         "legendgroup": "True",
         "marker": {
          "color": "#EF553B",
          "pattern": {
           "shape": ""
          }
         },
         "name": "True",
         "offsetgroup": "True",
         "orientation": "v",
         "showlegend": true,
         "textposition": "auto",
         "type": "bar",
         "x": [
          "146820",
          "9978",
          "3918",
          "146819",
          "3903",
          "14965",
          "3902",
          "167125",
          "167141",
          "3917"
         ],
         "xaxis": "x",
         "y": [
          0.5360050093926112,
          0.7347670250896058,
          0.5983606557377049,
          0.6256983240223464,
          0.6472868217054264,
          0.7024798927613941,
          0.6618257261410788,
          0.9464450600184672,
          0.683030303030303,
          0.6221264367816092
         ],
         "yaxis": "y"
        }
       ],
       "layout": {
        "barmode": "group",
        "legend": {
         "title": {
          "text": "desimbalancer"
         },
         "tracegroupgap": 0
        },
        "margin": {
         "t": 60
        },
        "template": {
         "data": {
          "bar": [
           {
            "error_x": {
             "color": "#2a3f5f"
            },
            "error_y": {
             "color": "#2a3f5f"
            },
            "marker": {
             "line": {
              "color": "#E5ECF6",
              "width": 0.5
             },
             "pattern": {
              "fillmode": "overlay",
              "size": 10,
              "solidity": 0.2
             }
            },
            "type": "bar"
           }
          ],
          "barpolar": [
           {
            "marker": {
             "line": {
              "color": "#E5ECF6",
              "width": 0.5
             },
             "pattern": {
              "fillmode": "overlay",
              "size": 10,
              "solidity": 0.2
             }
            },
            "type": "barpolar"
           }
          ],
          "carpet": [
           {
            "aaxis": {
             "endlinecolor": "#2a3f5f",
             "gridcolor": "white",
             "linecolor": "white",
             "minorgridcolor": "white",
             "startlinecolor": "#2a3f5f"
            },
            "baxis": {
             "endlinecolor": "#2a3f5f",
             "gridcolor": "white",
             "linecolor": "white",
             "minorgridcolor": "white",
             "startlinecolor": "#2a3f5f"
            },
            "type": "carpet"
           }
          ],
          "choropleth": [
           {
            "colorbar": {
             "outlinewidth": 0,
             "ticks": ""
            },
            "type": "choropleth"
           }
          ],
          "contour": [
           {
            "colorbar": {
             "outlinewidth": 0,
             "ticks": ""
            },
            "colorscale": [
             [
              0,
              "#0d0887"
             ],
             [
              0.1111111111111111,
              "#46039f"
             ],
             [
              0.2222222222222222,
              "#7201a8"
             ],
             [
              0.3333333333333333,
              "#9c179e"
             ],
             [
              0.4444444444444444,
              "#bd3786"
             ],
             [
              0.5555555555555556,
              "#d8576b"
             ],
             [
              0.6666666666666666,
              "#ed7953"
             ],
             [
              0.7777777777777778,
              "#fb9f3a"
             ],
             [
              0.8888888888888888,
              "#fdca26"
             ],
             [
              1,
              "#f0f921"
             ]
            ],
            "type": "contour"
           }
          ],
          "contourcarpet": [
           {
            "colorbar": {
             "outlinewidth": 0,
             "ticks": ""
            },
            "type": "contourcarpet"
           }
          ],
          "heatmap": [
           {
            "colorbar": {
             "outlinewidth": 0,
             "ticks": ""
            },
            "colorscale": [
             [
              0,
              "#0d0887"
             ],
             [
              0.1111111111111111,
              "#46039f"
             ],
             [
              0.2222222222222222,
              "#7201a8"
             ],
             [
              0.3333333333333333,
              "#9c179e"
             ],
             [
              0.4444444444444444,
              "#bd3786"
             ],
             [
              0.5555555555555556,
              "#d8576b"
             ],
             [
              0.6666666666666666,
              "#ed7953"
             ],
             [
              0.7777777777777778,
              "#fb9f3a"
             ],
             [
              0.8888888888888888,
              "#fdca26"
             ],
             [
              1,
              "#f0f921"
             ]
            ],
            "type": "heatmap"
           }
          ],
          "heatmapgl": [
           {
            "colorbar": {
             "outlinewidth": 0,
             "ticks": ""
            },
            "colorscale": [
             [
              0,
              "#0d0887"
             ],
             [
              0.1111111111111111,
              "#46039f"
             ],
             [
              0.2222222222222222,
              "#7201a8"
             ],
             [
              0.3333333333333333,
              "#9c179e"
             ],
             [
              0.4444444444444444,
              "#bd3786"
             ],
             [
              0.5555555555555556,
              "#d8576b"
             ],
             [
              0.6666666666666666,
              "#ed7953"
             ],
             [
              0.7777777777777778,
              "#fb9f3a"
             ],
             [
              0.8888888888888888,
              "#fdca26"
             ],
             [
              1,
              "#f0f921"
             ]
            ],
            "type": "heatmapgl"
           }
          ],
          "histogram": [
           {
            "marker": {
             "pattern": {
              "fillmode": "overlay",
              "size": 10,
              "solidity": 0.2
             }
            },
            "type": "histogram"
           }
          ],
          "histogram2d": [
           {
            "colorbar": {
             "outlinewidth": 0,
             "ticks": ""
            },
            "colorscale": [
             [
              0,
              "#0d0887"
             ],
             [
              0.1111111111111111,
              "#46039f"
             ],
             [
              0.2222222222222222,
              "#7201a8"
             ],
             [
              0.3333333333333333,
              "#9c179e"
             ],
             [
              0.4444444444444444,
              "#bd3786"
             ],
             [
              0.5555555555555556,
              "#d8576b"
             ],
             [
              0.6666666666666666,
              "#ed7953"
             ],
             [
              0.7777777777777778,
              "#fb9f3a"
             ],
             [
              0.8888888888888888,
              "#fdca26"
             ],
             [
              1,
              "#f0f921"
             ]
            ],
            "type": "histogram2d"
           }
          ],
          "histogram2dcontour": [
           {
            "colorbar": {
             "outlinewidth": 0,
             "ticks": ""
            },
            "colorscale": [
             [
              0,
              "#0d0887"
             ],
             [
              0.1111111111111111,
              "#46039f"
             ],
             [
              0.2222222222222222,
              "#7201a8"
             ],
             [
              0.3333333333333333,
              "#9c179e"
             ],
             [
              0.4444444444444444,
              "#bd3786"
             ],
             [
              0.5555555555555556,
              "#d8576b"
             ],
             [
              0.6666666666666666,
              "#ed7953"
             ],
             [
              0.7777777777777778,
              "#fb9f3a"
             ],
             [
              0.8888888888888888,
              "#fdca26"
             ],
             [
              1,
              "#f0f921"
             ]
            ],
            "type": "histogram2dcontour"
           }
          ],
          "mesh3d": [
           {
            "colorbar": {
             "outlinewidth": 0,
             "ticks": ""
            },
            "type": "mesh3d"
           }
          ],
          "parcoords": [
           {
            "line": {
             "colorbar": {
              "outlinewidth": 0,
              "ticks": ""
             }
            },
            "type": "parcoords"
           }
          ],
          "pie": [
           {
            "automargin": true,
            "type": "pie"
           }
          ],
          "scatter": [
           {
            "marker": {
             "colorbar": {
              "outlinewidth": 0,
              "ticks": ""
             }
            },
            "type": "scatter"
           }
          ],
          "scatter3d": [
           {
            "line": {
             "colorbar": {
              "outlinewidth": 0,
              "ticks": ""
             }
            },
            "marker": {
             "colorbar": {
              "outlinewidth": 0,
              "ticks": ""
             }
            },
            "type": "scatter3d"
           }
          ],
          "scattercarpet": [
           {
            "marker": {
             "colorbar": {
              "outlinewidth": 0,
              "ticks": ""
             }
            },
            "type": "scattercarpet"
           }
          ],
          "scattergeo": [
           {
            "marker": {
             "colorbar": {
              "outlinewidth": 0,
              "ticks": ""
             }
            },
            "type": "scattergeo"
           }
          ],
          "scattergl": [
           {
            "marker": {
             "colorbar": {
              "outlinewidth": 0,
              "ticks": ""
             }
            },
            "type": "scattergl"
           }
          ],
          "scattermapbox": [
           {
            "marker": {
             "colorbar": {
              "outlinewidth": 0,
              "ticks": ""
             }
            },
            "type": "scattermapbox"
           }
          ],
          "scatterpolar": [
           {
            "marker": {
             "colorbar": {
              "outlinewidth": 0,
              "ticks": ""
             }
            },
            "type": "scatterpolar"
           }
          ],
          "scatterpolargl": [
           {
            "marker": {
             "colorbar": {
              "outlinewidth": 0,
              "ticks": ""
             }
            },
            "type": "scatterpolargl"
           }
          ],
          "scatterternary": [
           {
            "marker": {
             "colorbar": {
              "outlinewidth": 0,
              "ticks": ""
             }
            },
            "type": "scatterternary"
           }
          ],
          "surface": [
           {
            "colorbar": {
             "outlinewidth": 0,
             "ticks": ""
            },
            "colorscale": [
             [
              0,
              "#0d0887"
             ],
             [
              0.1111111111111111,
              "#46039f"
             ],
             [
              0.2222222222222222,
              "#7201a8"
             ],
             [
              0.3333333333333333,
              "#9c179e"
             ],
             [
              0.4444444444444444,
              "#bd3786"
             ],
             [
              0.5555555555555556,
              "#d8576b"
             ],
             [
              0.6666666666666666,
              "#ed7953"
             ],
             [
              0.7777777777777778,
              "#fb9f3a"
             ],
             [
              0.8888888888888888,
              "#fdca26"
             ],
             [
              1,
              "#f0f921"
             ]
            ],
            "type": "surface"
           }
          ],
          "table": [
           {
            "cells": {
             "fill": {
              "color": "#EBF0F8"
             },
             "line": {
              "color": "white"
             }
            },
            "header": {
             "fill": {
              "color": "#C8D4E3"
             },
             "line": {
              "color": "white"
             }
            },
            "type": "table"
           }
          ]
         },
         "layout": {
          "annotationdefaults": {
           "arrowcolor": "#2a3f5f",
           "arrowhead": 0,
           "arrowwidth": 1
          },
          "autotypenumbers": "strict",
          "coloraxis": {
           "colorbar": {
            "outlinewidth": 0,
            "ticks": ""
           }
          },
          "colorscale": {
           "diverging": [
            [
             0,
             "#8e0152"
            ],
            [
             0.1,
             "#c51b7d"
            ],
            [
             0.2,
             "#de77ae"
            ],
            [
             0.3,
             "#f1b6da"
            ],
            [
             0.4,
             "#fde0ef"
            ],
            [
             0.5,
             "#f7f7f7"
            ],
            [
             0.6,
             "#e6f5d0"
            ],
            [
             0.7,
             "#b8e186"
            ],
            [
             0.8,
             "#7fbc41"
            ],
            [
             0.9,
             "#4d9221"
            ],
            [
             1,
             "#276419"
            ]
           ],
           "sequential": [
            [
             0,
             "#0d0887"
            ],
            [
             0.1111111111111111,
             "#46039f"
            ],
            [
             0.2222222222222222,
             "#7201a8"
            ],
            [
             0.3333333333333333,
             "#9c179e"
            ],
            [
             0.4444444444444444,
             "#bd3786"
            ],
            [
             0.5555555555555556,
             "#d8576b"
            ],
            [
             0.6666666666666666,
             "#ed7953"
            ],
            [
             0.7777777777777778,
             "#fb9f3a"
            ],
            [
             0.8888888888888888,
             "#fdca26"
            ],
            [
             1,
             "#f0f921"
            ]
           ],
           "sequentialminus": [
            [
             0,
             "#0d0887"
            ],
            [
             0.1111111111111111,
             "#46039f"
            ],
            [
             0.2222222222222222,
             "#7201a8"
            ],
            [
             0.3333333333333333,
             "#9c179e"
            ],
            [
             0.4444444444444444,
             "#bd3786"
            ],
            [
             0.5555555555555556,
             "#d8576b"
            ],
            [
             0.6666666666666666,
             "#ed7953"
            ],
            [
             0.7777777777777778,
             "#fb9f3a"
            ],
            [
             0.8888888888888888,
             "#fdca26"
            ],
            [
             1,
             "#f0f921"
            ]
           ]
          },
          "colorway": [
           "#636efa",
           "#EF553B",
           "#00cc96",
           "#ab63fa",
           "#FFA15A",
           "#19d3f3",
           "#FF6692",
           "#B6E880",
           "#FF97FF",
           "#FECB52"
          ],
          "font": {
           "color": "#2a3f5f"
          },
          "geo": {
           "bgcolor": "white",
           "lakecolor": "white",
           "landcolor": "#E5ECF6",
           "showlakes": true,
           "showland": true,
           "subunitcolor": "white"
          },
          "hoverlabel": {
           "align": "left"
          },
          "hovermode": "closest",
          "mapbox": {
           "style": "light"
          },
          "paper_bgcolor": "white",
          "plot_bgcolor": "#E5ECF6",
          "polar": {
           "angularaxis": {
            "gridcolor": "white",
            "linecolor": "white",
            "ticks": ""
           },
           "bgcolor": "#E5ECF6",
           "radialaxis": {
            "gridcolor": "white",
            "linecolor": "white",
            "ticks": ""
           }
          },
          "scene": {
           "xaxis": {
            "backgroundcolor": "#E5ECF6",
            "gridcolor": "white",
            "gridwidth": 2,
            "linecolor": "white",
            "showbackground": true,
            "ticks": "",
            "zerolinecolor": "white"
           },
           "yaxis": {
            "backgroundcolor": "#E5ECF6",
            "gridcolor": "white",
            "gridwidth": 2,
            "linecolor": "white",
            "showbackground": true,
            "ticks": "",
            "zerolinecolor": "white"
           },
           "zaxis": {
            "backgroundcolor": "#E5ECF6",
            "gridcolor": "white",
            "gridwidth": 2,
            "linecolor": "white",
            "showbackground": true,
            "ticks": "",
            "zerolinecolor": "white"
           }
          },
          "shapedefaults": {
           "line": {
            "color": "#2a3f5f"
           }
          },
          "ternary": {
           "aaxis": {
            "gridcolor": "white",
            "linecolor": "white",
            "ticks": ""
           },
           "baxis": {
            "gridcolor": "white",
            "linecolor": "white",
            "ticks": ""
           },
           "bgcolor": "#E5ECF6",
           "caxis": {
            "gridcolor": "white",
            "linecolor": "white",
            "ticks": ""
           }
          },
          "title": {
           "x": 0.05
          },
          "xaxis": {
           "automargin": true,
           "gridcolor": "white",
           "linecolor": "white",
           "ticks": "",
           "title": {
            "standoff": 15
           },
           "zerolinecolor": "white",
           "zerolinewidth": 2
          },
          "yaxis": {
           "automargin": true,
           "gridcolor": "white",
           "linecolor": "white",
           "ticks": "",
           "title": {
            "standoff": 15
           },
           "zerolinecolor": "white",
           "zerolinewidth": 2
          }
         }
        },
        "xaxis": {
         "anchor": "y",
         "domain": [
          0,
          1
         ],
         "title": {
          "text": "id"
         }
        },
        "yaxis": {
         "anchor": "x",
         "domain": [
          0,
          1
         ],
         "title": {
          "text": "result"
         }
        }
       }
      }
     },
     "metadata": {},
     "output_type": "display_data"
    }
   ],
   "source": [
    "import plotly.express as px\n",
    "\n",
    "new_results = []\n",
    "for r in sorted(results, key=lambda x: x['perc'], reverse=False):\n",
    "    new_line1 = deepcopy(r)\n",
    "    new_line2 = deepcopy(r)\n",
    "\n",
    "    new_line1['desimbalancer'] = False\n",
    "    new_line1['result'] = new_line1['result_false']\n",
    "    del new_line1['result_false']\n",
    "    del new_line1['result_true']\n",
    "\n",
    "    new_line2['desimbalancer'] = True\n",
    "    new_line2['result'] = new_line2['result_true']\n",
    "    del new_line2['result_false']\n",
    "    del new_line2['result_true']\n",
    "\n",
    "    new_results.append(new_line1)\n",
    "    new_results.append(new_line2)\n",
    "\n",
    "results_df = pd.DataFrame(new_results)\n",
    "results_df['id'] = results_df['id'].astype(str)\n",
    "\n",
    "fig = px.bar(results_df, x='id', y='result', color='desimbalancer', barmode='group',\n",
    "    #    title='Quantidade de memória utilizada por tabuleiro',\n",
    "    #    labels={\n",
    "    #         'game_id': 'Identificador do tabuleiro',\n",
    "    #         'memory_used': 'Quantidade de blocos de memória utilizada',\n",
    "    #         'alg': 'Algoritmo'\n",
    "    #    }\n",
    "    custom_data=['result', 'perc', 'n_rows', 'n_cols']\n",
    ")\n",
    "\n",
    "fig.update_traces(\n",
    "    hovertemplate=\"<br>\".join([\n",
    "        \"Evaluation: %{customdata[0]:.4f}\",\n",
    "        \"Imbalance: %{customdata[1]:.4f}\",\n",
    "        \"N Rows: %{customdata[2]}\",\n",
    "        \"N Cols: %{customdata[3]}\",\n",
    "    ])\n",
    ")"
   ]
  },
  {
   "attachments": {},
   "cell_type": "markdown",
   "metadata": {},
   "source": [
    "## Amount of labels"
   ]
  },
  {
   "cell_type": "code",
   "execution_count": 10,
   "metadata": {},
   "outputs": [],
   "source": [
    "n_labels_dict = dict()\n",
    "\n",
    "for ds in datasets:\n",
    "    df = ds['X']\n",
    "    id = ds['id']\n",
    "    last_col = df.columns[-1]\n",
    "    n_labels_dict[id] = len(df[last_col].unique())"
   ]
  },
  {
   "cell_type": "code",
   "execution_count": 12,
   "metadata": {},
   "outputs": [
    {
     "name": "stdout",
     "output_type": "stream",
     "text": [
      "(id, n_labels)\n"
     ]
    },
    {
     "data": {
      "text/plain": [
       "[(167121, 46),\n",
       " (6, 26),\n",
       " (3481, 26),\n",
       " (125922, 11),\n",
       " (3022, 11),\n",
       " (16, 10),\n",
       " (14, 10),\n",
       " (32, 10),\n",
       " (12, 10),\n",
       " (18, 10),\n",
       " (28, 10),\n",
       " (9964, 10),\n",
       " (22, 10),\n",
       " (3573, 10),\n",
       " (146824, 10),\n",
       " (146825, 10),\n",
       " (167124, 10),\n",
       " (9981, 9),\n",
       " (146800, 8),\n",
       " (146822, 7),\n",
       " (146817, 7),\n",
       " (2074, 6),\n",
       " (3560, 6),\n",
       " (9985, 6),\n",
       " (14970, 6),\n",
       " (2079, 5),\n",
       " (14969, 5),\n",
       " (53, 4),\n",
       " (3549, 4),\n",
       " (9960, 4),\n",
       " (146821, 4),\n",
       " (11, 3),\n",
       " (45, 3),\n",
       " (23, 3),\n",
       " (146195, 3),\n",
       " (167119, 3),\n",
       " (167140, 3),\n",
       " (31, 2),\n",
       " (10101, 2),\n",
       " (3913, 2),\n",
       " (3, 2),\n",
       " (3917, 2),\n",
       " (9957, 2),\n",
       " (9946, 2),\n",
       " (3918, 2),\n",
       " (3903, 2),\n",
       " (37, 2),\n",
       " (9971, 2),\n",
       " (9952, 2),\n",
       " (3902, 2),\n",
       " (49, 2),\n",
       " (43, 2),\n",
       " (9978, 2),\n",
       " (10093, 2),\n",
       " (219, 2),\n",
       " (9976, 2),\n",
       " (14965, 2),\n",
       " (9977, 2),\n",
       " (15, 2),\n",
       " (29, 2),\n",
       " (14952, 2),\n",
       " (125920, 2),\n",
       " (3904, 2),\n",
       " (9910, 2),\n",
       " (3021, 2),\n",
       " (7592, 2),\n",
       " (146820, 2),\n",
       " (146819, 2),\n",
       " (14954, 2),\n",
       " (167141, 2),\n",
       " (167120, 2),\n",
       " (167125, 2)]"
      ]
     },
     "execution_count": 12,
     "metadata": {},
     "output_type": "execute_result"
    }
   ],
   "source": [
    "print('(id, n_labels)')\n",
    "sorted(n_labels_dict.items(), key=lambda x: x[1], reverse=True)"
   ]
  }
 ],
 "metadata": {
  "kernelspec": {
   "display_name": "base",
   "language": "python",
   "name": "python3"
  },
  "language_info": {
   "codemirror_mode": {
    "name": "ipython",
    "version": 3
   },
   "file_extension": ".py",
   "mimetype": "text/x-python",
   "name": "python",
   "nbconvert_exporter": "python",
   "pygments_lexer": "ipython3",
   "version": "3.9.5"
  },
  "orig_nbformat": 4,
  "vscode": {
   "interpreter": {
    "hash": "521bd52f7db69f83952e45c69a41cc5a9312142da056b7c563e70a654200e62d"
   }
  }
 },
 "nbformat": 4,
 "nbformat_minor": 2
}
