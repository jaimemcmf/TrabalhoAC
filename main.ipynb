{
 "cells": [
  {
   "attachments": {},
   "cell_type": "markdown",
   "metadata": {},
   "source": [
    "## Listando os datasets mais desbalanceados"
   ]
  },
  {
   "cell_type": "code",
   "execution_count": 5,
   "metadata": {},
   "outputs": [],
   "source": [
    "import openml\n",
    "with open('apikey.txt', 'r') as f:\n",
    "    openml.config.apikey = f.read()\n",
    "\n",
    "from tqdm import tqdm\n",
    "import multiprocessing as mp"
   ]
  },
  {
   "cell_type": "code",
   "execution_count": 6,
   "metadata": {},
   "outputs": [],
   "source": [
    "# Obtemos as task ids manualmente no website fornecido na descrição do trabalho\n",
    "task_ids = [31, 10101, 3913, 3, 3917, 9957, 9946, 3918, 3903, 37, 9971, 9952, 3902, 49, 43, 9978, 10093, 219, 9976, 14965, 6, 9977, 53, 11, 15, 16, 14, 32, 3549, 12, 9981, 18, 28, 2074, 29, 45, 125922, 9960, 9964, 22, 2079,\n",
    "            14969, 3560, 14952, 125920, 23, 3904, 3022, 9985, 9910, 14970, 3021, 3481, 7592, 3573, 146824, 146820, 146822, 146195, 146800, 146817, 146819, 146821, 167119, 14954, 167141, 167140, 167120, 167125, 146825, 167124, 167121]"
   ]
  },
  {
   "cell_type": "code",
   "execution_count": 7,
   "metadata": {},
   "outputs": [],
   "source": [
    "def get_dataset_by_task_id(id):\n",
    "    task = openml.tasks.get_task(id)\n",
    "    X, y, categorical_indicator, attribute_names = task.get_dataset().get_data()\n",
    "    return {\n",
    "        'id': id, 'X': X, 'y': y,\n",
    "        'categorical_indicator': categorical_indicator,\n",
    "        'attribute_names': attribute_names\n",
    "    }"
   ]
  },
  {
   "cell_type": "code",
   "execution_count": 8,
   "metadata": {},
   "outputs": [
    {
     "name": "stderr",
     "output_type": "stream",
     "text": [
      "100%|██████████| 72/72 [00:03<00:00, 20.06it/s]\n"
     ]
    }
   ],
   "source": [
    "datasets = [get_dataset_by_task_id(id) for id in tqdm(task_ids)]"
   ]
  },
  {
   "attachments": {},
   "cell_type": "markdown",
   "metadata": {},
   "source": [
    "Abaixo definimos o valor de desbalanceamento `imbalance` como a maior proporção entre as labels do dataset."
   ]
  },
  {
   "cell_type": "code",
   "execution_count": 9,
   "metadata": {},
   "outputs": [],
   "source": [
    "datasets_info = []\n",
    "\n",
    "for ds in datasets:\n",
    "    df = ds['X']\n",
    "    last_col = df.columns[-1]\n",
    "    \n",
    "    uniques = df[last_col].unique()\n",
    "    if len(uniques) == 2:\n",
    "        imbalance = max(len(df[df[last_col] == u]) / len(df) for u in uniques)\n",
    "\n",
    "        id = ds['id']\n",
    "        datasets_info.append({\n",
    "            'id': id,\n",
    "            'Imbalance': \"{:.2f}\".format(imbalance*100)+\"%\",\n",
    "            'N Rows': len(df),\n",
    "            'N Cols': df.shape[1]\n",
    "        })"
   ]
  },
  {
   "cell_type": "code",
   "execution_count": 10,
   "metadata": {},
   "outputs": [
    {
     "name": "stdout",
     "output_type": "stream",
     "text": [
      "{'id': 146820, 'Imbalance': '94.61%', 'N Rows': 4839, 'N Cols': 6}\n",
      "{'id': 3021, 'Imbalance': '93.88%', 'N Rows': 3772, 'N Cols': 30}\n",
      "{'id': 9978, 'Imbalance': '93.69%', 'N Rows': 2534, 'N Cols': 73}\n",
      "{'id': 3918, 'Imbalance': '93.06%', 'N Rows': 1109, 'N Cols': 22}\n",
      "{'id': 146819, 'Imbalance': '91.48%', 'N Rows': 540, 'N Cols': 19}\n",
      "{'id': 3903, 'Imbalance': '89.76%', 'N Rows': 1563, 'N Cols': 38}\n",
      "{'id': 14965, 'Imbalance': '88.30%', 'N Rows': 45211, 'N Cols': 17}\n",
      "{'id': 3902, 'Imbalance': '87.79%', 'N Rows': 1458, 'N Cols': 38}\n",
      "{'id': 167125, 'Imbalance': '86.00%', 'N Rows': 3279, 'N Cols': 1559}\n",
      "{'id': 167141, 'Imbalance': '85.86%', 'N Rows': 5000, 'N Cols': 21}\n",
      "{'id': 3917, 'Imbalance': '84.54%', 'N Rows': 2109, 'N Cols': 22}\n",
      "{'id': 3904, 'Imbalance': '80.65%', 'N Rows': 10885, 'N Cols': 22}\n",
      "{'id': 3913, 'Imbalance': '79.50%', 'N Rows': 522, 'N Cols': 22}\n",
      "{'id': 10101, 'Imbalance': '76.20%', 'N Rows': 748, 'N Cols': 5}\n",
      "{'id': 7592, 'Imbalance': '76.07%', 'N Rows': 48842, 'N Cols': 15}\n",
      "{'id': 9977, 'Imbalance': '71.44%', 'N Rows': 34465, 'N Cols': 119}\n",
      "{'id': 9971, 'Imbalance': '71.36%', 'N Rows': 583, 'N Cols': 11}\n",
      "{'id': 9952, 'Imbalance': '70.65%', 'N Rows': 5404, 'N Cols': 6}\n",
      "{'id': 31, 'Imbalance': '70.00%', 'N Rows': 1000, 'N Cols': 21}\n",
      "{'id': 9957, 'Imbalance': '66.26%', 'N Rows': 1055, 'N Cols': 42}\n",
      "{'id': 15, 'Imbalance': '65.52%', 'N Rows': 699, 'N Cols': 10}\n",
      "{'id': 49, 'Imbalance': '65.34%', 'N Rows': 958, 'N Cols': 10}\n",
      "{'id': 37, 'Imbalance': '65.10%', 'N Rows': 768, 'N Cols': 9}\n",
      "{'id': 9946, 'Imbalance': '62.74%', 'N Rows': 569, 'N Cols': 31}\n",
      "{'id': 43, 'Imbalance': '60.60%', 'N Rows': 4601, 'N Cols': 58}\n",
      "{'id': 125920, 'Imbalance': '58.00%', 'N Rows': 500, 'N Cols': 13}\n",
      "{'id': 14954, 'Imbalance': '57.78%', 'N Rows': 540, 'N Cols': 38}\n",
      "{'id': 219, 'Imbalance': '57.55%', 'N Rows': 45312, 'N Cols': 9}\n",
      "{'id': 14952, 'Imbalance': '55.69%', 'N Rows': 11055, 'N Cols': 31}\n",
      "{'id': 10093, 'Imbalance': '55.54%', 'N Rows': 1372, 'N Cols': 5}\n",
      "{'id': 29, 'Imbalance': '55.51%', 'N Rows': 690, 'N Cols': 16}\n",
      "{'id': 9910, 'Imbalance': '54.23%', 'N Rows': 3751, 'N Cols': 1777}\n",
      "{'id': 3, 'Imbalance': '52.22%', 'N Rows': 3196, 'N Cols': 37}\n",
      "{'id': 167120, 'Imbalance': '50.52%', 'N Rows': 96320, 'N Cols': 22}\n",
      "{'id': 9976, 'Imbalance': '50.00%', 'N Rows': 2600, 'N Cols': 501}\n"
     ]
    }
   ],
   "source": [
    "# Ordenando do mais desbalanceado para o menos\n",
    "class_imbalance_list = sorted(datasets_info, key=lambda x: x['Imbalance'], reverse=True)\n",
    "for l in class_imbalance_list:\n",
    "    print(l)"
   ]
  },
  {
   "attachments": {},
   "cell_type": "markdown",
   "metadata": {},
   "source": [
    "## Testando os datasets na nossa implementação do modelo"
   ]
  },
  {
   "cell_type": "code",
   "execution_count": 12,
   "metadata": {},
   "outputs": [],
   "source": [
    "import itertools\n",
    "import numpy as np\n",
    "import pandas as pd\n",
    "import plotly.express as px\n",
    "from copy import deepcopy\n",
    "from sklearn.model_selection import train_test_split\n",
    "\n",
    "from decisiontree import DecisionTree"
   ]
  },
  {
   "attachments": {},
   "cell_type": "markdown",
   "metadata": {},
   "source": [
    "Selecionamos os 20 datasets mais desbalanceados, apesar de usarmos apenas os 10 mais posteriormente, pois alguns deles se mostraram problemáticos e então foram descartados."
   ]
  },
  {
   "cell_type": "code",
   "execution_count": 13,
   "metadata": {},
   "outputs": [],
   "source": [
    "def get_result(dataset):\n",
    "    try:\n",
    "        id = dataset['id']\n",
    "        task = openml.tasks.get_task(id)\n",
    "        dataframe, _, _, _ = task.get_dataset().get_data()\n",
    "        dataframe = dataframe.dropna()\n",
    "\n",
    "        X = dataframe.values[:, :-1]\n",
    "        y = dataframe.values[:, -1]\n",
    "        X_train, X_test, y_train, y_test = train_test_split(X, y, test_size=.33, random_state=42, stratify=y)\n",
    "\n",
    "        # Utilizamos desse valor de profundidade máxima por ser uma 'rule of thumb'\n",
    "        max_depth = int(np.sqrt(X.shape[1]))\n",
    "\n",
    "        lines = []\n",
    "\n",
    "        dt = DecisionTree(max_depth=max_depth, desimbalancer=False)\n",
    "        dt.fit(X_train, y_train)\n",
    "        res = dt.evaluate(X_test, y_test)\n",
    "        c1, c2 = dt.trp(X_test, y_test)\n",
    "        line = deepcopy(dataset)\n",
    "        line['Accuracy'] = \"{:.2f}\".format(res*100)+\"%\"\n",
    "        line['Class 1 True Rate'] = \"{:.2f}\".format(c1*100)+\"%\"\n",
    "        line['Class 2 True Rate'] = \"{:.2f}\".format(c2*100)+\"%\"\n",
    "        line['Desimbalancer?'] = False\n",
    "        lines.append(line)\n",
    "\n",
    "        dt = DecisionTree(max_depth=max_depth, desimbalancer=True)\n",
    "        dt.fit(X_train, y_train)\n",
    "        res = dt.evaluate(X_test, y_test)\n",
    "        c1, c2 = dt.trp(X_test, y_test)\n",
    "        \n",
    "        line = deepcopy(dataset)\n",
    "        line['Accuracy'] = \"{:.2f}\".format(res*100)+\"%\"\n",
    "        line['Class 1 True Rate'] = \"{:.2f}\".format(c1*100)+\"%\"\n",
    "        line['Class 2 True Rate'] = \"{:.2f}\".format(c2*100)+\"%\"\n",
    "        line['Desimbalancer?'] = True\n",
    "        lines.append(line)\n",
    "        \n",
    "        return lines\n",
    "    except Exception:\n",
    "        return None"
   ]
  },
  {
   "cell_type": "code",
   "execution_count": 14,
   "metadata": {},
   "outputs": [
    {
     "name": "stderr",
     "output_type": "stream",
     "text": [
      "100%|██████████| 20/20 [03:05<00:00,  9.30s/it]\n"
     ]
    }
   ],
   "source": [
    "results = [get_result(dataset) for dataset in tqdm(class_imbalance_list[:20])]"
   ]
  },
  {
   "cell_type": "code",
   "execution_count": 15,
   "metadata": {},
   "outputs": [],
   "source": [
    "# Filtragem de somente os resultados válidos\n",
    "results = [r for r in results if r is not None]\n",
    "\n",
    "# Transformando a lista de listas em uma só\n",
    "results = list(itertools.chain.from_iterable(results))"
   ]
  },
  {
   "cell_type": "code",
   "execution_count": 16,
   "metadata": {},
   "outputs": [
    {
     "data": {
      "text/html": [
       "<div>\n",
       "<style scoped>\n",
       "    .dataframe tbody tr th:only-of-type {\n",
       "        vertical-align: middle;\n",
       "    }\n",
       "\n",
       "    .dataframe tbody tr th {\n",
       "        vertical-align: top;\n",
       "    }\n",
       "\n",
       "    .dataframe thead th {\n",
       "        text-align: right;\n",
       "    }\n",
       "</style>\n",
       "<table border=\"1\" class=\"dataframe\">\n",
       "  <thead>\n",
       "    <tr style=\"text-align: right;\">\n",
       "      <th></th>\n",
       "      <th>id</th>\n",
       "      <th>Imbalance</th>\n",
       "      <th>N Rows</th>\n",
       "      <th>N Cols</th>\n",
       "      <th>Accuracy</th>\n",
       "      <th>Class 1 True Rate</th>\n",
       "      <th>Class 2 True Rate</th>\n",
       "      <th>Desimbalancer?</th>\n",
       "    </tr>\n",
       "  </thead>\n",
       "  <tbody>\n",
       "    <tr>\n",
       "      <th>0</th>\n",
       "      <td>146820</td>\n",
       "      <td>94.61%</td>\n",
       "      <td>4839</td>\n",
       "      <td>6</td>\n",
       "      <td>94.61%</td>\n",
       "      <td>0.00%</td>\n",
       "      <td>100.00%</td>\n",
       "      <td>False</td>\n",
       "    </tr>\n",
       "    <tr>\n",
       "      <th>1</th>\n",
       "      <td>146820</td>\n",
       "      <td>94.61%</td>\n",
       "      <td>4839</td>\n",
       "      <td>6</td>\n",
       "      <td>53.41%</td>\n",
       "      <td>52.15%</td>\n",
       "      <td>75.58%</td>\n",
       "      <td>True</td>\n",
       "    </tr>\n",
       "    <tr>\n",
       "      <th>2</th>\n",
       "      <td>9978</td>\n",
       "      <td>93.69%</td>\n",
       "      <td>2534</td>\n",
       "      <td>73</td>\n",
       "      <td>93.31%</td>\n",
       "      <td>5.66%</td>\n",
       "      <td>99.23%</td>\n",
       "      <td>False</td>\n",
       "    </tr>\n",
       "    <tr>\n",
       "      <th>3</th>\n",
       "      <td>9978</td>\n",
       "      <td>93.69%</td>\n",
       "      <td>2534</td>\n",
       "      <td>73</td>\n",
       "      <td>70.85%</td>\n",
       "      <td>66.04%</td>\n",
       "      <td>71.17%</td>\n",
       "      <td>True</td>\n",
       "    </tr>\n",
       "    <tr>\n",
       "      <th>4</th>\n",
       "      <td>3918</td>\n",
       "      <td>93.06%</td>\n",
       "      <td>1109</td>\n",
       "      <td>22</td>\n",
       "      <td>93.17%</td>\n",
       "      <td>0.00%</td>\n",
       "      <td>100.00%</td>\n",
       "      <td>False</td>\n",
       "    </tr>\n",
       "  </tbody>\n",
       "</table>\n",
       "</div>"
      ],
      "text/plain": [
       "       id Imbalance  N Rows  N Cols Accuracy Class 1 True Rate  \\\n",
       "0  146820    94.61%    4839       6   94.61%             0.00%   \n",
       "1  146820    94.61%    4839       6   53.41%            52.15%   \n",
       "2    9978    93.69%    2534      73   93.31%             5.66%   \n",
       "3    9978    93.69%    2534      73   70.85%            66.04%   \n",
       "4    3918    93.06%    1109      22   93.17%             0.00%   \n",
       "\n",
       "  Class 2 True Rate  Desimbalancer?  \n",
       "0           100.00%           False  \n",
       "1            75.58%            True  \n",
       "2            99.23%           False  \n",
       "3            71.17%            True  \n",
       "4           100.00%           False  "
      ]
     },
     "execution_count": 16,
     "metadata": {},
     "output_type": "execute_result"
    }
   ],
   "source": [
    "pd.DataFrame(results).head()"
   ]
  },
  {
   "attachments": {},
   "cell_type": "markdown",
   "metadata": {},
   "source": [
    "Adequação dos resultados para um formato a ser melhor utilizado em plots"
   ]
  },
  {
   "cell_type": "code",
   "execution_count": 17,
   "metadata": {},
   "outputs": [],
   "source": [
    "plot_df = pd.DataFrame(results)\n",
    "plot_df['id'] = plot_df['id'].astype(str)\n",
    "plot_df['Accuracy'] = plot_df['Accuracy'].apply(lambda x: x.replace('%', '')).astype(float)\n",
    "plot_df['Imbalance'] = plot_df['Imbalance'].apply(lambda x: x.replace('%', '')).astype(float)\n",
    "\n",
    "plot_df = plot_df.sort_values('Imbalance', ascending=False)\n",
    "\n",
    "plot_df = plot_df[:20]"
   ]
  },
  {
   "cell_type": "code",
   "execution_count": 18,
   "metadata": {},
   "outputs": [
    {
     "data": {
      "application/vnd.plotly.v1+json": {
       "config": {
        "plotlyServerURL": "https://plot.ly"
       },
       "data": [
        {
         "alignmentgroup": "True",
         "customdata": [
          [
           94.61,
           94.61,
           4839,
           6
          ],
          [
           93.31,
           93.69,
           2534,
           73
          ],
          [
           93.17,
           93.06,
           1109,
           22
          ],
          [
           91.62,
           91.48,
           540,
           19
          ],
          [
           89.73,
           89.76,
           1563,
           38
          ],
          [
           88.58,
           88.3,
           45211,
           17
          ],
          [
           86.31,
           87.79,
           1458,
           38
          ],
          [
           96.49,
           86,
           3279,
           1559
          ],
          [
           86.61,
           85.86,
           5000,
           21
          ],
          [
           84.48,
           84.54,
           2109,
           22
          ]
         ],
         "hovertemplate": "Accuracy: %{customdata[0]:.2f}<br>Imbalance: %{customdata[1]:.2f}<br>N Rows: %{customdata[2]}<br>N Cols: %{customdata[3]}",
         "legendgroup": "False",
         "marker": {
          "color": "#636efa",
          "pattern": {
           "shape": ""
          }
         },
         "name": "False",
         "offsetgroup": "False",
         "orientation": "v",
         "showlegend": true,
         "textposition": "auto",
         "type": "bar",
         "x": [
          "146820",
          "9978",
          "3918",
          "146819",
          "3903",
          "14965",
          "3902",
          "167125",
          "167141",
          "3917"
         ],
         "xaxis": "x",
         "y": [
          94.61,
          93.31,
          93.17,
          91.62,
          89.73,
          88.58,
          86.31,
          96.49,
          86.61,
          84.48
         ],
         "yaxis": "y"
        },
        {
         "alignmentgroup": "True",
         "customdata": [
          [
           53.41,
           94.61,
           4839,
           6
          ],
          [
           70.85,
           93.69,
           2534,
           73
          ],
          [
           57.92,
           93.06,
           1109,
           22
          ],
          [
           85.47,
           91.48,
           540,
           19
          ],
          [
           69.96,
           89.76,
           1563,
           38
          ],
          [
           71.43,
           88.3,
           45211,
           17
          ],
          [
           69.29,
           87.79,
           1458,
           38
          ],
          [
           95.29,
           86,
           3279,
           1559
          ],
          [
           75.03,
           85.86,
           5000,
           21
          ],
          [
           61.93,
           84.54,
           2109,
           22
          ]
         ],
         "hovertemplate": "Accuracy: %{customdata[0]:.2f}<br>Imbalance: %{customdata[1]:.2f}<br>N Rows: %{customdata[2]}<br>N Cols: %{customdata[3]}",
         "legendgroup": "True",
         "marker": {
          "color": "#EF553B",
          "pattern": {
           "shape": ""
          }
         },
         "name": "True",
         "offsetgroup": "True",
         "orientation": "v",
         "showlegend": true,
         "textposition": "auto",
         "type": "bar",
         "x": [
          "146820",
          "9978",
          "3918",
          "146819",
          "3903",
          "14965",
          "3902",
          "167125",
          "167141",
          "3917"
         ],
         "xaxis": "x",
         "y": [
          53.41,
          70.85,
          57.92,
          85.47,
          69.96,
          71.43,
          69.29,
          95.29,
          75.03,
          61.93
         ],
         "yaxis": "y"
        }
       ],
       "layout": {
        "barmode": "group",
        "legend": {
         "title": {
          "text": "Peso de balanceamento<br>(nossa heurística)"
         },
         "tracegroupgap": 0
        },
        "template": {
         "data": {
          "bar": [
           {
            "error_x": {
             "color": "#2a3f5f"
            },
            "error_y": {
             "color": "#2a3f5f"
            },
            "marker": {
             "line": {
              "color": "#E5ECF6",
              "width": 0.5
             },
             "pattern": {
              "fillmode": "overlay",
              "size": 10,
              "solidity": 0.2
             }
            },
            "type": "bar"
           }
          ],
          "barpolar": [
           {
            "marker": {
             "line": {
              "color": "#E5ECF6",
              "width": 0.5
             },
             "pattern": {
              "fillmode": "overlay",
              "size": 10,
              "solidity": 0.2
             }
            },
            "type": "barpolar"
           }
          ],
          "carpet": [
           {
            "aaxis": {
             "endlinecolor": "#2a3f5f",
             "gridcolor": "white",
             "linecolor": "white",
             "minorgridcolor": "white",
             "startlinecolor": "#2a3f5f"
            },
            "baxis": {
             "endlinecolor": "#2a3f5f",
             "gridcolor": "white",
             "linecolor": "white",
             "minorgridcolor": "white",
             "startlinecolor": "#2a3f5f"
            },
            "type": "carpet"
           }
          ],
          "choropleth": [
           {
            "colorbar": {
             "outlinewidth": 0,
             "ticks": ""
            },
            "type": "choropleth"
           }
          ],
          "contour": [
           {
            "colorbar": {
             "outlinewidth": 0,
             "ticks": ""
            },
            "colorscale": [
             [
              0,
              "#0d0887"
             ],
             [
              0.1111111111111111,
              "#46039f"
             ],
             [
              0.2222222222222222,
              "#7201a8"
             ],
             [
              0.3333333333333333,
              "#9c179e"
             ],
             [
              0.4444444444444444,
              "#bd3786"
             ],
             [
              0.5555555555555556,
              "#d8576b"
             ],
             [
              0.6666666666666666,
              "#ed7953"
             ],
             [
              0.7777777777777778,
              "#fb9f3a"
             ],
             [
              0.8888888888888888,
              "#fdca26"
             ],
             [
              1,
              "#f0f921"
             ]
            ],
            "type": "contour"
           }
          ],
          "contourcarpet": [
           {
            "colorbar": {
             "outlinewidth": 0,
             "ticks": ""
            },
            "type": "contourcarpet"
           }
          ],
          "heatmap": [
           {
            "colorbar": {
             "outlinewidth": 0,
             "ticks": ""
            },
            "colorscale": [
             [
              0,
              "#0d0887"
             ],
             [
              0.1111111111111111,
              "#46039f"
             ],
             [
              0.2222222222222222,
              "#7201a8"
             ],
             [
              0.3333333333333333,
              "#9c179e"
             ],
             [
              0.4444444444444444,
              "#bd3786"
             ],
             [
              0.5555555555555556,
              "#d8576b"
             ],
             [
              0.6666666666666666,
              "#ed7953"
             ],
             [
              0.7777777777777778,
              "#fb9f3a"
             ],
             [
              0.8888888888888888,
              "#fdca26"
             ],
             [
              1,
              "#f0f921"
             ]
            ],
            "type": "heatmap"
           }
          ],
          "heatmapgl": [
           {
            "colorbar": {
             "outlinewidth": 0,
             "ticks": ""
            },
            "colorscale": [
             [
              0,
              "#0d0887"
             ],
             [
              0.1111111111111111,
              "#46039f"
             ],
             [
              0.2222222222222222,
              "#7201a8"
             ],
             [
              0.3333333333333333,
              "#9c179e"
             ],
             [
              0.4444444444444444,
              "#bd3786"
             ],
             [
              0.5555555555555556,
              "#d8576b"
             ],
             [
              0.6666666666666666,
              "#ed7953"
             ],
             [
              0.7777777777777778,
              "#fb9f3a"
             ],
             [
              0.8888888888888888,
              "#fdca26"
             ],
             [
              1,
              "#f0f921"
             ]
            ],
            "type": "heatmapgl"
           }
          ],
          "histogram": [
           {
            "marker": {
             "pattern": {
              "fillmode": "overlay",
              "size": 10,
              "solidity": 0.2
             }
            },
            "type": "histogram"
           }
          ],
          "histogram2d": [
           {
            "colorbar": {
             "outlinewidth": 0,
             "ticks": ""
            },
            "colorscale": [
             [
              0,
              "#0d0887"
             ],
             [
              0.1111111111111111,
              "#46039f"
             ],
             [
              0.2222222222222222,
              "#7201a8"
             ],
             [
              0.3333333333333333,
              "#9c179e"
             ],
             [
              0.4444444444444444,
              "#bd3786"
             ],
             [
              0.5555555555555556,
              "#d8576b"
             ],
             [
              0.6666666666666666,
              "#ed7953"
             ],
             [
              0.7777777777777778,
              "#fb9f3a"
             ],
             [
              0.8888888888888888,
              "#fdca26"
             ],
             [
              1,
              "#f0f921"
             ]
            ],
            "type": "histogram2d"
           }
          ],
          "histogram2dcontour": [
           {
            "colorbar": {
             "outlinewidth": 0,
             "ticks": ""
            },
            "colorscale": [
             [
              0,
              "#0d0887"
             ],
             [
              0.1111111111111111,
              "#46039f"
             ],
             [
              0.2222222222222222,
              "#7201a8"
             ],
             [
              0.3333333333333333,
              "#9c179e"
             ],
             [
              0.4444444444444444,
              "#bd3786"
             ],
             [
              0.5555555555555556,
              "#d8576b"
             ],
             [
              0.6666666666666666,
              "#ed7953"
             ],
             [
              0.7777777777777778,
              "#fb9f3a"
             ],
             [
              0.8888888888888888,
              "#fdca26"
             ],
             [
              1,
              "#f0f921"
             ]
            ],
            "type": "histogram2dcontour"
           }
          ],
          "mesh3d": [
           {
            "colorbar": {
             "outlinewidth": 0,
             "ticks": ""
            },
            "type": "mesh3d"
           }
          ],
          "parcoords": [
           {
            "line": {
             "colorbar": {
              "outlinewidth": 0,
              "ticks": ""
             }
            },
            "type": "parcoords"
           }
          ],
          "pie": [
           {
            "automargin": true,
            "type": "pie"
           }
          ],
          "scatter": [
           {
            "marker": {
             "colorbar": {
              "outlinewidth": 0,
              "ticks": ""
             }
            },
            "type": "scatter"
           }
          ],
          "scatter3d": [
           {
            "line": {
             "colorbar": {
              "outlinewidth": 0,
              "ticks": ""
             }
            },
            "marker": {
             "colorbar": {
              "outlinewidth": 0,
              "ticks": ""
             }
            },
            "type": "scatter3d"
           }
          ],
          "scattercarpet": [
           {
            "marker": {
             "colorbar": {
              "outlinewidth": 0,
              "ticks": ""
             }
            },
            "type": "scattercarpet"
           }
          ],
          "scattergeo": [
           {
            "marker": {
             "colorbar": {
              "outlinewidth": 0,
              "ticks": ""
             }
            },
            "type": "scattergeo"
           }
          ],
          "scattergl": [
           {
            "marker": {
             "colorbar": {
              "outlinewidth": 0,
              "ticks": ""
             }
            },
            "type": "scattergl"
           }
          ],
          "scattermapbox": [
           {
            "marker": {
             "colorbar": {
              "outlinewidth": 0,
              "ticks": ""
             }
            },
            "type": "scattermapbox"
           }
          ],
          "scatterpolar": [
           {
            "marker": {
             "colorbar": {
              "outlinewidth": 0,
              "ticks": ""
             }
            },
            "type": "scatterpolar"
           }
          ],
          "scatterpolargl": [
           {
            "marker": {
             "colorbar": {
              "outlinewidth": 0,
              "ticks": ""
             }
            },
            "type": "scatterpolargl"
           }
          ],
          "scatterternary": [
           {
            "marker": {
             "colorbar": {
              "outlinewidth": 0,
              "ticks": ""
             }
            },
            "type": "scatterternary"
           }
          ],
          "surface": [
           {
            "colorbar": {
             "outlinewidth": 0,
             "ticks": ""
            },
            "colorscale": [
             [
              0,
              "#0d0887"
             ],
             [
              0.1111111111111111,
              "#46039f"
             ],
             [
              0.2222222222222222,
              "#7201a8"
             ],
             [
              0.3333333333333333,
              "#9c179e"
             ],
             [
              0.4444444444444444,
              "#bd3786"
             ],
             [
              0.5555555555555556,
              "#d8576b"
             ],
             [
              0.6666666666666666,
              "#ed7953"
             ],
             [
              0.7777777777777778,
              "#fb9f3a"
             ],
             [
              0.8888888888888888,
              "#fdca26"
             ],
             [
              1,
              "#f0f921"
             ]
            ],
            "type": "surface"
           }
          ],
          "table": [
           {
            "cells": {
             "fill": {
              "color": "#EBF0F8"
             },
             "line": {
              "color": "white"
             }
            },
            "header": {
             "fill": {
              "color": "#C8D4E3"
             },
             "line": {
              "color": "white"
             }
            },
            "type": "table"
           }
          ]
         },
         "layout": {
          "annotationdefaults": {
           "arrowcolor": "#2a3f5f",
           "arrowhead": 0,
           "arrowwidth": 1
          },
          "autotypenumbers": "strict",
          "coloraxis": {
           "colorbar": {
            "outlinewidth": 0,
            "ticks": ""
           }
          },
          "colorscale": {
           "diverging": [
            [
             0,
             "#8e0152"
            ],
            [
             0.1,
             "#c51b7d"
            ],
            [
             0.2,
             "#de77ae"
            ],
            [
             0.3,
             "#f1b6da"
            ],
            [
             0.4,
             "#fde0ef"
            ],
            [
             0.5,
             "#f7f7f7"
            ],
            [
             0.6,
             "#e6f5d0"
            ],
            [
             0.7,
             "#b8e186"
            ],
            [
             0.8,
             "#7fbc41"
            ],
            [
             0.9,
             "#4d9221"
            ],
            [
             1,
             "#276419"
            ]
           ],
           "sequential": [
            [
             0,
             "#0d0887"
            ],
            [
             0.1111111111111111,
             "#46039f"
            ],
            [
             0.2222222222222222,
             "#7201a8"
            ],
            [
             0.3333333333333333,
             "#9c179e"
            ],
            [
             0.4444444444444444,
             "#bd3786"
            ],
            [
             0.5555555555555556,
             "#d8576b"
            ],
            [
             0.6666666666666666,
             "#ed7953"
            ],
            [
             0.7777777777777778,
             "#fb9f3a"
            ],
            [
             0.8888888888888888,
             "#fdca26"
            ],
            [
             1,
             "#f0f921"
            ]
           ],
           "sequentialminus": [
            [
             0,
             "#0d0887"
            ],
            [
             0.1111111111111111,
             "#46039f"
            ],
            [
             0.2222222222222222,
             "#7201a8"
            ],
            [
             0.3333333333333333,
             "#9c179e"
            ],
            [
             0.4444444444444444,
             "#bd3786"
            ],
            [
             0.5555555555555556,
             "#d8576b"
            ],
            [
             0.6666666666666666,
             "#ed7953"
            ],
            [
             0.7777777777777778,
             "#fb9f3a"
            ],
            [
             0.8888888888888888,
             "#fdca26"
            ],
            [
             1,
             "#f0f921"
            ]
           ]
          },
          "colorway": [
           "#636efa",
           "#EF553B",
           "#00cc96",
           "#ab63fa",
           "#FFA15A",
           "#19d3f3",
           "#FF6692",
           "#B6E880",
           "#FF97FF",
           "#FECB52"
          ],
          "font": {
           "color": "#2a3f5f"
          },
          "geo": {
           "bgcolor": "white",
           "lakecolor": "white",
           "landcolor": "#E5ECF6",
           "showlakes": true,
           "showland": true,
           "subunitcolor": "white"
          },
          "hoverlabel": {
           "align": "left"
          },
          "hovermode": "closest",
          "mapbox": {
           "style": "light"
          },
          "paper_bgcolor": "white",
          "plot_bgcolor": "#E5ECF6",
          "polar": {
           "angularaxis": {
            "gridcolor": "white",
            "linecolor": "white",
            "ticks": ""
           },
           "bgcolor": "#E5ECF6",
           "radialaxis": {
            "gridcolor": "white",
            "linecolor": "white",
            "ticks": ""
           }
          },
          "scene": {
           "xaxis": {
            "backgroundcolor": "#E5ECF6",
            "gridcolor": "white",
            "gridwidth": 2,
            "linecolor": "white",
            "showbackground": true,
            "ticks": "",
            "zerolinecolor": "white"
           },
           "yaxis": {
            "backgroundcolor": "#E5ECF6",
            "gridcolor": "white",
            "gridwidth": 2,
            "linecolor": "white",
            "showbackground": true,
            "ticks": "",
            "zerolinecolor": "white"
           },
           "zaxis": {
            "backgroundcolor": "#E5ECF6",
            "gridcolor": "white",
            "gridwidth": 2,
            "linecolor": "white",
            "showbackground": true,
            "ticks": "",
            "zerolinecolor": "white"
           }
          },
          "shapedefaults": {
           "line": {
            "color": "#2a3f5f"
           }
          },
          "ternary": {
           "aaxis": {
            "gridcolor": "white",
            "linecolor": "white",
            "ticks": ""
           },
           "baxis": {
            "gridcolor": "white",
            "linecolor": "white",
            "ticks": ""
           },
           "bgcolor": "#E5ECF6",
           "caxis": {
            "gridcolor": "white",
            "linecolor": "white",
            "ticks": ""
           }
          },
          "title": {
           "x": 0.05
          },
          "xaxis": {
           "automargin": true,
           "gridcolor": "white",
           "linecolor": "white",
           "ticks": "",
           "title": {
            "standoff": 15
           },
           "zerolinecolor": "white",
           "zerolinewidth": 2
          },
          "yaxis": {
           "automargin": true,
           "gridcolor": "white",
           "linecolor": "white",
           "ticks": "",
           "title": {
            "standoff": 15
           },
           "zerolinecolor": "white",
           "zerolinewidth": 2
          }
         }
        },
        "title": {
         "text": "Accuracy do modelo para os 10 datasets mais desbalanceados"
        },
        "xaxis": {
         "anchor": "y",
         "domain": [
          0,
          1
         ],
         "title": {
          "text": "ID da task"
         }
        },
        "yaxis": {
         "anchor": "x",
         "domain": [
          0,
          1
         ],
         "title": {
          "text": "Accuracy"
         }
        }
       }
      }
     },
     "metadata": {},
     "output_type": "display_data"
    }
   ],
   "source": [
    "fig = px.bar(plot_df, x='id', y='Accuracy', color='Desimbalancer?', barmode='group',\n",
    "        title='Accuracy do modelo para os 10 datasets mais desbalanceados',\n",
    "        labels={\n",
    "                'id': 'ID da task',\n",
    "                'Accuracy (%)': 'Accuracy',\n",
    "                'Desimbalancer?': 'Peso de balanceamento<br>(nossa heurística)'\n",
    "        },\n",
    "    custom_data=['Accuracy', 'Imbalance', 'N Rows', 'N Cols']\n",
    ")\n",
    "\n",
    "fig.update_traces(\n",
    "    hovertemplate=\"<br>\".join([\n",
    "        \"Accuracy (%): %{customdata[0]:.2f}\",\n",
    "        \"Imbalance: %{customdata[1]:.2f}\",\n",
    "        \"N Rows: %{customdata[2]}\",\n",
    "        \"N Cols: %{customdata[3]}\",\n",
    "    ])\n",
    ")\n"
   ]
  },
  {
   "attachments": {},
   "cell_type": "markdown",
   "metadata": {},
   "source": [
    "True Positive Rate dos diferentes algoritmos de balanceamento"
   ]
  },
  {
   "cell_type": "code",
   "execution_count": 19,
   "metadata": {},
   "outputs": [
    {
     "data": {
      "text/plain": [
       "{'0', '1'}"
      ]
     },
     "execution_count": 19,
     "metadata": {},
     "output_type": "execute_result"
    }
   ],
   "source": [
    "task = openml.tasks.get_task(146819)\n",
    "dataframe, _, _, _ = task.get_dataset().get_data()\n",
    "dataframe = dataframe.dropna()\n",
    "\n",
    "X = dataframe.values[:, :-1]\n",
    "y = dataframe.values[:, -1]\n",
    "X_train, X_test, y_train, y_test = train_test_split(X, y, test_size=.33, random_state=42, stratify=y)\n",
    "\n",
    "max_depth = int(np.sqrt(X.shape[1]))\n",
    "\n",
    "set(y)"
   ]
  },
  {
   "cell_type": "code",
   "execution_count": 20,
   "metadata": {},
   "outputs": [],
   "source": [
    "X_test_1, X_test_2, y_test_1, y_test_2 = [], [], [], []\n",
    "for x_i, y_i in zip(X_test, y_test):\n",
    "    if y_i == '0':\n",
    "        X_test_1.append(x_i)\n",
    "        y_test_1.append(y_i)\n",
    "    elif y_i == '1':\n",
    "        X_test_2.append(x_i)\n",
    "        y_test_2.append(y_i)\n",
    "    else:\n",
    "        raise Exception('''This shouldn't happen''')\n",
    "    \n",
    "X_test_1 = np.array(X_test_1)\n",
    "X_test_2 = np.array(X_test_2)\n",
    "y_test_1 = np.array(y_test_1)\n",
    "y_test_2 = np.array(y_test_2)"
   ]
  },
  {
   "cell_type": "code",
   "execution_count": 38,
   "metadata": {},
   "outputs": [],
   "source": [
    "lines = []"
   ]
  },
  {
   "cell_type": "code",
   "execution_count": 39,
   "metadata": {},
   "outputs": [],
   "source": [
    "for alg in ['exp', 'linear', 'inv_exp', 'linear_compensated']:\n",
    "    dt = DecisionTree(max_depth=max_depth, desimbalancer=True, desimbalancer_func=alg)\n",
    "    dt.fit(X_train, y_train)\n",
    "    \n",
    "    res_1 = dt.evaluate(X_test_1, y_test_1) * 100\n",
    "    res_2 = dt.evaluate(X_test_2, y_test_2) * 100\n",
    "\n",
    "    lines.append({'alg': alg, 'result': res_1, 'label': '1'})\n",
    "    lines.append({'alg': alg, 'result': res_2, 'label': '2'})"
   ]
  },
  {
   "cell_type": "code",
   "execution_count": 40,
   "metadata": {},
   "outputs": [],
   "source": [
    "dt = DecisionTree(max_depth=max_depth, desimbalancer=False)\n",
    "dt.fit(X_train, y_train)\n",
    "\n",
    "res_1 = dt.evaluate(X_test_1, y_test_1) * 100\n",
    "res_2 = dt.evaluate(X_test_2, y_test_2) * 100\n",
    "\n",
    "lines.append({'alg': 'no desimbalancer', 'result': res_1, 'label': '1'})\n",
    "lines.append({'alg': 'no desimbalancer', 'result': res_2, 'label': '2'})"
   ]
  },
  {
   "cell_type": "code",
   "execution_count": 45,
   "metadata": {},
   "outputs": [],
   "source": [
    "plot_df = pd.DataFrame(lines)"
   ]
  },
  {
   "cell_type": "code",
   "execution_count": 43,
   "metadata": {},
   "outputs": [
    {
     "data": {
      "application/vnd.plotly.v1+json": {
       "config": {
        "plotlyServerURL": "https://plot.ly"
       },
       "data": [
        {
         "alignmentgroup": "True",
         "hovertemplate": "Label=1<br>Algoritmo=%{x}<br>Accuracy (%)=%{y}<extra></extra>",
         "legendgroup": "1",
         "marker": {
          "color": "#636efa",
          "pattern": {
           "shape": ""
          }
         },
         "name": "1",
         "offsetgroup": "1",
         "orientation": "v",
         "showlegend": true,
         "textposition": "auto",
         "type": "bar",
         "x": [
          "exp",
          "linear",
          "inv_exp",
          "linear_compensated",
          "no desimbalancer"
         ],
         "xaxis": "x",
         "y": [
          93.33333333333333,
          93.33333333333333,
          66.66666666666666,
          66.66666666666666,
          0
         ],
         "yaxis": "y"
        },
        {
         "alignmentgroup": "True",
         "hovertemplate": "Label=2<br>Algoritmo=%{x}<br>Accuracy (%)=%{y}<extra></extra>",
         "legendgroup": "2",
         "marker": {
          "color": "#EF553B",
          "pattern": {
           "shape": ""
          }
         },
         "name": "2",
         "offsetgroup": "2",
         "orientation": "v",
         "showlegend": true,
         "textposition": "auto",
         "type": "bar",
         "x": [
          "exp",
          "linear",
          "inv_exp",
          "linear_compensated",
          "no desimbalancer"
         ],
         "xaxis": "x",
         "y": [
          70.1219512195122,
          84.7560975609756,
          90.2439024390244,
          95.1219512195122,
          100
         ],
         "yaxis": "y"
        }
       ],
       "layout": {
        "barmode": "group",
        "legend": {
         "title": {
          "text": "Label"
         },
         "tracegroupgap": 0
        },
        "template": {
         "data": {
          "bar": [
           {
            "error_x": {
             "color": "#2a3f5f"
            },
            "error_y": {
             "color": "#2a3f5f"
            },
            "marker": {
             "line": {
              "color": "#E5ECF6",
              "width": 0.5
             },
             "pattern": {
              "fillmode": "overlay",
              "size": 10,
              "solidity": 0.2
             }
            },
            "type": "bar"
           }
          ],
          "barpolar": [
           {
            "marker": {
             "line": {
              "color": "#E5ECF6",
              "width": 0.5
             },
             "pattern": {
              "fillmode": "overlay",
              "size": 10,
              "solidity": 0.2
             }
            },
            "type": "barpolar"
           }
          ],
          "carpet": [
           {
            "aaxis": {
             "endlinecolor": "#2a3f5f",
             "gridcolor": "white",
             "linecolor": "white",
             "minorgridcolor": "white",
             "startlinecolor": "#2a3f5f"
            },
            "baxis": {
             "endlinecolor": "#2a3f5f",
             "gridcolor": "white",
             "linecolor": "white",
             "minorgridcolor": "white",
             "startlinecolor": "#2a3f5f"
            },
            "type": "carpet"
           }
          ],
          "choropleth": [
           {
            "colorbar": {
             "outlinewidth": 0,
             "ticks": ""
            },
            "type": "choropleth"
           }
          ],
          "contour": [
           {
            "colorbar": {
             "outlinewidth": 0,
             "ticks": ""
            },
            "colorscale": [
             [
              0,
              "#0d0887"
             ],
             [
              0.1111111111111111,
              "#46039f"
             ],
             [
              0.2222222222222222,
              "#7201a8"
             ],
             [
              0.3333333333333333,
              "#9c179e"
             ],
             [
              0.4444444444444444,
              "#bd3786"
             ],
             [
              0.5555555555555556,
              "#d8576b"
             ],
             [
              0.6666666666666666,
              "#ed7953"
             ],
             [
              0.7777777777777778,
              "#fb9f3a"
             ],
             [
              0.8888888888888888,
              "#fdca26"
             ],
             [
              1,
              "#f0f921"
             ]
            ],
            "type": "contour"
           }
          ],
          "contourcarpet": [
           {
            "colorbar": {
             "outlinewidth": 0,
             "ticks": ""
            },
            "type": "contourcarpet"
           }
          ],
          "heatmap": [
           {
            "colorbar": {
             "outlinewidth": 0,
             "ticks": ""
            },
            "colorscale": [
             [
              0,
              "#0d0887"
             ],
             [
              0.1111111111111111,
              "#46039f"
             ],
             [
              0.2222222222222222,
              "#7201a8"
             ],
             [
              0.3333333333333333,
              "#9c179e"
             ],
             [
              0.4444444444444444,
              "#bd3786"
             ],
             [
              0.5555555555555556,
              "#d8576b"
             ],
             [
              0.6666666666666666,
              "#ed7953"
             ],
             [
              0.7777777777777778,
              "#fb9f3a"
             ],
             [
              0.8888888888888888,
              "#fdca26"
             ],
             [
              1,
              "#f0f921"
             ]
            ],
            "type": "heatmap"
           }
          ],
          "heatmapgl": [
           {
            "colorbar": {
             "outlinewidth": 0,
             "ticks": ""
            },
            "colorscale": [
             [
              0,
              "#0d0887"
             ],
             [
              0.1111111111111111,
              "#46039f"
             ],
             [
              0.2222222222222222,
              "#7201a8"
             ],
             [
              0.3333333333333333,
              "#9c179e"
             ],
             [
              0.4444444444444444,
              "#bd3786"
             ],
             [
              0.5555555555555556,
              "#d8576b"
             ],
             [
              0.6666666666666666,
              "#ed7953"
             ],
             [
              0.7777777777777778,
              "#fb9f3a"
             ],
             [
              0.8888888888888888,
              "#fdca26"
             ],
             [
              1,
              "#f0f921"
             ]
            ],
            "type": "heatmapgl"
           }
          ],
          "histogram": [
           {
            "marker": {
             "pattern": {
              "fillmode": "overlay",
              "size": 10,
              "solidity": 0.2
             }
            },
            "type": "histogram"
           }
          ],
          "histogram2d": [
           {
            "colorbar": {
             "outlinewidth": 0,
             "ticks": ""
            },
            "colorscale": [
             [
              0,
              "#0d0887"
             ],
             [
              0.1111111111111111,
              "#46039f"
             ],
             [
              0.2222222222222222,
              "#7201a8"
             ],
             [
              0.3333333333333333,
              "#9c179e"
             ],
             [
              0.4444444444444444,
              "#bd3786"
             ],
             [
              0.5555555555555556,
              "#d8576b"
             ],
             [
              0.6666666666666666,
              "#ed7953"
             ],
             [
              0.7777777777777778,
              "#fb9f3a"
             ],
             [
              0.8888888888888888,
              "#fdca26"
             ],
             [
              1,
              "#f0f921"
             ]
            ],
            "type": "histogram2d"
           }
          ],
          "histogram2dcontour": [
           {
            "colorbar": {
             "outlinewidth": 0,
             "ticks": ""
            },
            "colorscale": [
             [
              0,
              "#0d0887"
             ],
             [
              0.1111111111111111,
              "#46039f"
             ],
             [
              0.2222222222222222,
              "#7201a8"
             ],
             [
              0.3333333333333333,
              "#9c179e"
             ],
             [
              0.4444444444444444,
              "#bd3786"
             ],
             [
              0.5555555555555556,
              "#d8576b"
             ],
             [
              0.6666666666666666,
              "#ed7953"
             ],
             [
              0.7777777777777778,
              "#fb9f3a"
             ],
             [
              0.8888888888888888,
              "#fdca26"
             ],
             [
              1,
              "#f0f921"
             ]
            ],
            "type": "histogram2dcontour"
           }
          ],
          "mesh3d": [
           {
            "colorbar": {
             "outlinewidth": 0,
             "ticks": ""
            },
            "type": "mesh3d"
           }
          ],
          "parcoords": [
           {
            "line": {
             "colorbar": {
              "outlinewidth": 0,
              "ticks": ""
             }
            },
            "type": "parcoords"
           }
          ],
          "pie": [
           {
            "automargin": true,
            "type": "pie"
           }
          ],
          "scatter": [
           {
            "marker": {
             "colorbar": {
              "outlinewidth": 0,
              "ticks": ""
             }
            },
            "type": "scatter"
           }
          ],
          "scatter3d": [
           {
            "line": {
             "colorbar": {
              "outlinewidth": 0,
              "ticks": ""
             }
            },
            "marker": {
             "colorbar": {
              "outlinewidth": 0,
              "ticks": ""
             }
            },
            "type": "scatter3d"
           }
          ],
          "scattercarpet": [
           {
            "marker": {
             "colorbar": {
              "outlinewidth": 0,
              "ticks": ""
             }
            },
            "type": "scattercarpet"
           }
          ],
          "scattergeo": [
           {
            "marker": {
             "colorbar": {
              "outlinewidth": 0,
              "ticks": ""
             }
            },
            "type": "scattergeo"
           }
          ],
          "scattergl": [
           {
            "marker": {
             "colorbar": {
              "outlinewidth": 0,
              "ticks": ""
             }
            },
            "type": "scattergl"
           }
          ],
          "scattermapbox": [
           {
            "marker": {
             "colorbar": {
              "outlinewidth": 0,
              "ticks": ""
             }
            },
            "type": "scattermapbox"
           }
          ],
          "scatterpolar": [
           {
            "marker": {
             "colorbar": {
              "outlinewidth": 0,
              "ticks": ""
             }
            },
            "type": "scatterpolar"
           }
          ],
          "scatterpolargl": [
           {
            "marker": {
             "colorbar": {
              "outlinewidth": 0,
              "ticks": ""
             }
            },
            "type": "scatterpolargl"
           }
          ],
          "scatterternary": [
           {
            "marker": {
             "colorbar": {
              "outlinewidth": 0,
              "ticks": ""
             }
            },
            "type": "scatterternary"
           }
          ],
          "surface": [
           {
            "colorbar": {
             "outlinewidth": 0,
             "ticks": ""
            },
            "colorscale": [
             [
              0,
              "#0d0887"
             ],
             [
              0.1111111111111111,
              "#46039f"
             ],
             [
              0.2222222222222222,
              "#7201a8"
             ],
             [
              0.3333333333333333,
              "#9c179e"
             ],
             [
              0.4444444444444444,
              "#bd3786"
             ],
             [
              0.5555555555555556,
              "#d8576b"
             ],
             [
              0.6666666666666666,
              "#ed7953"
             ],
             [
              0.7777777777777778,
              "#fb9f3a"
             ],
             [
              0.8888888888888888,
              "#fdca26"
             ],
             [
              1,
              "#f0f921"
             ]
            ],
            "type": "surface"
           }
          ],
          "table": [
           {
            "cells": {
             "fill": {
              "color": "#EBF0F8"
             },
             "line": {
              "color": "white"
             }
            },
            "header": {
             "fill": {
              "color": "#C8D4E3"
             },
             "line": {
              "color": "white"
             }
            },
            "type": "table"
           }
          ]
         },
         "layout": {
          "annotationdefaults": {
           "arrowcolor": "#2a3f5f",
           "arrowhead": 0,
           "arrowwidth": 1
          },
          "autotypenumbers": "strict",
          "coloraxis": {
           "colorbar": {
            "outlinewidth": 0,
            "ticks": ""
           }
          },
          "colorscale": {
           "diverging": [
            [
             0,
             "#8e0152"
            ],
            [
             0.1,
             "#c51b7d"
            ],
            [
             0.2,
             "#de77ae"
            ],
            [
             0.3,
             "#f1b6da"
            ],
            [
             0.4,
             "#fde0ef"
            ],
            [
             0.5,
             "#f7f7f7"
            ],
            [
             0.6,
             "#e6f5d0"
            ],
            [
             0.7,
             "#b8e186"
            ],
            [
             0.8,
             "#7fbc41"
            ],
            [
             0.9,
             "#4d9221"
            ],
            [
             1,
             "#276419"
            ]
           ],
           "sequential": [
            [
             0,
             "#0d0887"
            ],
            [
             0.1111111111111111,
             "#46039f"
            ],
            [
             0.2222222222222222,
             "#7201a8"
            ],
            [
             0.3333333333333333,
             "#9c179e"
            ],
            [
             0.4444444444444444,
             "#bd3786"
            ],
            [
             0.5555555555555556,
             "#d8576b"
            ],
            [
             0.6666666666666666,
             "#ed7953"
            ],
            [
             0.7777777777777778,
             "#fb9f3a"
            ],
            [
             0.8888888888888888,
             "#fdca26"
            ],
            [
             1,
             "#f0f921"
            ]
           ],
           "sequentialminus": [
            [
             0,
             "#0d0887"
            ],
            [
             0.1111111111111111,
             "#46039f"
            ],
            [
             0.2222222222222222,
             "#7201a8"
            ],
            [
             0.3333333333333333,
             "#9c179e"
            ],
            [
             0.4444444444444444,
             "#bd3786"
            ],
            [
             0.5555555555555556,
             "#d8576b"
            ],
            [
             0.6666666666666666,
             "#ed7953"
            ],
            [
             0.7777777777777778,
             "#fb9f3a"
            ],
            [
             0.8888888888888888,
             "#fdca26"
            ],
            [
             1,
             "#f0f921"
            ]
           ]
          },
          "colorway": [
           "#636efa",
           "#EF553B",
           "#00cc96",
           "#ab63fa",
           "#FFA15A",
           "#19d3f3",
           "#FF6692",
           "#B6E880",
           "#FF97FF",
           "#FECB52"
          ],
          "font": {
           "color": "#2a3f5f"
          },
          "geo": {
           "bgcolor": "white",
           "lakecolor": "white",
           "landcolor": "#E5ECF6",
           "showlakes": true,
           "showland": true,
           "subunitcolor": "white"
          },
          "hoverlabel": {
           "align": "left"
          },
          "hovermode": "closest",
          "mapbox": {
           "style": "light"
          },
          "paper_bgcolor": "white",
          "plot_bgcolor": "#E5ECF6",
          "polar": {
           "angularaxis": {
            "gridcolor": "white",
            "linecolor": "white",
            "ticks": ""
           },
           "bgcolor": "#E5ECF6",
           "radialaxis": {
            "gridcolor": "white",
            "linecolor": "white",
            "ticks": ""
           }
          },
          "scene": {
           "xaxis": {
            "backgroundcolor": "#E5ECF6",
            "gridcolor": "white",
            "gridwidth": 2,
            "linecolor": "white",
            "showbackground": true,
            "ticks": "",
            "zerolinecolor": "white"
           },
           "yaxis": {
            "backgroundcolor": "#E5ECF6",
            "gridcolor": "white",
            "gridwidth": 2,
            "linecolor": "white",
            "showbackground": true,
            "ticks": "",
            "zerolinecolor": "white"
           },
           "zaxis": {
            "backgroundcolor": "#E5ECF6",
            "gridcolor": "white",
            "gridwidth": 2,
            "linecolor": "white",
            "showbackground": true,
            "ticks": "",
            "zerolinecolor": "white"
           }
          },
          "shapedefaults": {
           "line": {
            "color": "#2a3f5f"
           }
          },
          "ternary": {
           "aaxis": {
            "gridcolor": "white",
            "linecolor": "white",
            "ticks": ""
           },
           "baxis": {
            "gridcolor": "white",
            "linecolor": "white",
            "ticks": ""
           },
           "bgcolor": "#E5ECF6",
           "caxis": {
            "gridcolor": "white",
            "linecolor": "white",
            "ticks": ""
           }
          },
          "title": {
           "x": 0.05
          },
          "xaxis": {
           "automargin": true,
           "gridcolor": "white",
           "linecolor": "white",
           "ticks": "",
           "title": {
            "standoff": 15
           },
           "zerolinecolor": "white",
           "zerolinewidth": 2
          },
          "yaxis": {
           "automargin": true,
           "gridcolor": "white",
           "linecolor": "white",
           "ticks": "",
           "title": {
            "standoff": 15
           },
           "zerolinecolor": "white",
           "zerolinewidth": 2
          }
         }
        },
        "title": {
         "text": "Accuracy do modelo para os diferentes algoritmos de balanceamento na task 146819"
        },
        "xaxis": {
         "anchor": "y",
         "domain": [
          0,
          1
         ],
         "title": {
          "text": "Algoritmo"
         }
        },
        "yaxis": {
         "anchor": "x",
         "domain": [
          0,
          1
         ],
         "title": {
          "text": "Accuracy (%)"
         }
        }
       }
      }
     },
     "metadata": {},
     "output_type": "display_data"
    }
   ],
   "source": [
    "fig = px.bar(plot_df, x='alg', y='result', color='label', barmode='group',\n",
    "             title='Accuracy do modelo para os diferentes algoritmos de balanceamento na task 146819',\n",
    "             labels={\n",
    "                 'alg': 'Algoritmo',\n",
    "                 'result': 'Accuracy (%)',\n",
    "                 'label': 'Label',\n",
    "             },\n",
    ")\n",
    "\n",
    "fig.show()\n"
   ]
  }
 ],
 "metadata": {
  "kernelspec": {
   "display_name": "base",
   "language": "python",
   "name": "python3"
  },
  "language_info": {
   "codemirror_mode": {
    "name": "ipython",
    "version": 3
   },
   "file_extension": ".py",
   "mimetype": "text/x-python",
   "name": "python",
   "nbconvert_exporter": "python",
   "pygments_lexer": "ipython3",
   "version": "3.9.5"
  },
  "orig_nbformat": 4,
  "vscode": {
   "interpreter": {
    "hash": "521bd52f7db69f83952e45c69a41cc5a9312142da056b7c563e70a654200e62d"
   }
  }
 },
 "nbformat": 4,
 "nbformat_minor": 2
}
