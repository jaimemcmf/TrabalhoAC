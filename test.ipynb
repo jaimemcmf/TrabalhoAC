{
 "cells": [
  {
   "cell_type": "code",
   "execution_count": 13,
   "metadata": {},
   "outputs": [],
   "source": [
    "from decisiontree import DecisionTree\n",
    "\n",
    "import pandas as pd\n",
    "import numpy as np\n",
    "from sklearn.model_selection import train_test_split\n",
    "\n",
    "from random import random"
   ]
  },
  {
   "cell_type": "code",
   "execution_count": 14,
   "metadata": {},
   "outputs": [],
   "source": [
    "import openml\n",
    "openml.config.apikey = 'eb60f811ca0d9f4f846d59be082919f9'"
   ]
  },
  {
   "cell_type": "code",
   "execution_count": 15,
   "metadata": {},
   "outputs": [
    {
     "name": "stdout",
     "output_type": "stream",
     "text": [
      "(2534, 72)\n",
      "(2534,)\n"
     ]
    }
   ],
   "source": [
    "task = openml.tasks.get_task(9978)\n",
    "data, _, _, _ = task.get_dataset().get_data()\n",
    "\n",
    "X = data.values[:, :-1]\n",
    "y = data.values[:, -1]\n",
    "\n",
    "print(X.shape)\n",
    "print(y.shape)"
   ]
  },
  {
   "cell_type": "code",
   "execution_count": 16,
   "metadata": {},
   "outputs": [],
   "source": [
    "X_train, X_test, y_train, y_test = train_test_split(X, y, test_size=.33, random_state=42, stratify=y)"
   ]
  },
  {
   "cell_type": "code",
   "execution_count": 17,
   "metadata": {},
   "outputs": [
    {
     "name": "stdout",
     "output_type": "stream",
     "text": [
      "8\n"
     ]
    }
   ],
   "source": [
    "max_depth = int(np.sqrt(X.shape[1]))\n",
    "print(max_depth)"
   ]
  },
  {
   "cell_type": "code",
   "execution_count": 18,
   "metadata": {},
   "outputs": [
    {
     "name": "stdout",
     "output_type": "stream",
     "text": [
      "Accuracy: 93.31%\n",
      "\n",
      "Classe-> 1:\tIncidência: 93.67%\n",
      "\t\tTrue 1 Rate: 99.23%\n",
      "\n",
      "Classe-> 2:\tIncidência: 6.33%\n",
      "\t\tTrue 2 Rate: 5.66%\n",
      "\n"
     ]
    }
   ],
   "source": [
    "dt = DecisionTree(max_depth=max_depth, desimbalancer=False)\n",
    "dt.fit(X_train, y_train)\n",
    "eval = dt.evaluate(X_test, y_test)\n",
    "print(f'Accuracy: {\"{:.2f}\".format(eval*100)}%\\n')\n",
    "dt.tpr(X_test, y_test)"
   ]
  },
  {
   "cell_type": "code",
   "execution_count": 34,
   "metadata": {},
   "outputs": [
    {
     "name": "stdout",
     "output_type": "stream",
     "text": [
      "Accuracy: 70.85%\n",
      "\n",
      "Classe-> 2:\tIncidência: 6.33%\n",
      "\t\tTrue Positive Rate: 66.04%\n",
      "Classe-> 1:\tIncidência: 93.67%\n",
      "\t\tTrue Positive Rate: 71.17%\n"
     ]
    }
   ],
   "source": [
    "dt = DecisionTree(max_depth=max_depth, desimbalancer=True)\n",
    "dt.fit(X_train, y_train)\n",
    "eval = dt.evaluate(X_test, y_test)\n",
    "print(f'Accuracy: {\"{:.2f}\".format(eval*100)}%\\n')\n",
    "dt.tpr(X_test, y_test)"
   ]
  },
  {
   "attachments": {},
   "cell_type": "markdown",
   "metadata": {},
   "source": [
    "desimbalancer func"
   ]
  },
  {
   "cell_type": "code",
   "execution_count": 35,
   "metadata": {},
   "outputs": [
    {
     "name": "stdout",
     "output_type": "stream",
     "text": [
      "Accuracy: 93.31%\n",
      "\n",
      "Classe-> 2:\tIncidência: 6.33%\n",
      "\t\tTrue Positive Rate: 5.66%\n",
      "Classe-> 1:\tIncidência: 93.67%\n",
      "\t\tTrue Positive Rate: 99.23%\n",
      "-------------------------\n",
      "linear\n",
      "\n",
      "Accuracy: 70.85%\n",
      "\n",
      "Classe-> 2:\tIncidência: 6.33%\n",
      "\t\tTrue Positive Rate: 66.04%\n",
      "Classe-> 1:\tIncidência: 93.67%\n",
      "\t\tTrue Positive Rate: 71.17%\n",
      "-------------------------\n",
      "exp\n",
      "\n",
      "Accuracy: 69.41%\n",
      "\n",
      "Classe-> 2:\tIncidência: 6.33%\n",
      "\t\tTrue Positive Rate: 66.04%\n",
      "Classe-> 1:\tIncidência: 93.67%\n",
      "\t\tTrue Positive Rate: 69.64%\n",
      "-------------------------\n",
      "inv_exp\n",
      "\n",
      "Accuracy: 88.05%\n",
      "\n",
      "Classe-> 2:\tIncidência: 6.33%\n",
      "\t\tTrue Positive Rate: 39.62%\n",
      "Classe-> 1:\tIncidência: 93.67%\n",
      "\t\tTrue Positive Rate: 91.33%\n",
      "-------------------------\n"
     ]
    }
   ],
   "source": [
    "dt = DecisionTree(max_depth=max_depth, desimbalancer=False)\n",
    "dt.fit(X_train, y_train)\n",
    "eval = dt.evaluate(X_test, y_test)\n",
    "print(f'Accuracy: {\"{:.2f}\".format(eval*100)}%\\n')\n",
    "dt.tpr(X_test, y_test)\n",
    "print('-------------------------')\n",
    "\n",
    "for f in ['linear', 'exp', 'inv_exp']:\n",
    "    dt = DecisionTree(max_depth=max_depth, desimbalancer=True, desimbalancer_func=f)\n",
    "    dt.fit(X_train, y_train)\n",
    "    print(f, end='\\n\\n')\n",
    "    eval = dt.evaluate(X_test, y_test)\n",
    "    print(f'Accuracy: {\"{:.2f}\".format(eval*100)}%\\n')\n",
    "    dt.tpr(X_test, y_test)\n",
    "    print('-------------------------')"
   ]
  },
  {
   "attachments": {},
   "cell_type": "markdown",
   "metadata": {},
   "source": [
    "propositalmente desbalanceando um dataset"
   ]
  },
  {
   "cell_type": "code",
   "execution_count": null,
   "metadata": {},
   "outputs": [],
   "source": [
    "task = openml.tasks.get_task(167120)\n",
    "data, _, _, _ = task.get_dataset().get_data()\n",
    "\n",
    "X = data.values[:, :-1]\n",
    "y = data.values[:, -1]\n",
    "\n",
    "print(X.shape)\n",
    "print(y.shape)"
   ]
  },
  {
   "cell_type": "code",
   "execution_count": null,
   "metadata": {},
   "outputs": [],
   "source": [
    "to_drop = list(set(y))[0]\n",
    "\n",
    "new_data_rows = []\n",
    "for _, row in data.iterrows():\n",
    "    if not(row[-1] == to_drop and random() < .2):\n",
    "        new_data_rows.append(row)\n",
    "\n",
    "new_data = pd.DataFrame(new_data_rows)"
   ]
  },
  {
   "cell_type": "code",
   "execution_count": null,
   "metadata": {},
   "outputs": [],
   "source": [
    "X = new_data.values[:, :-1]\n",
    "y = new_data.values[:, -1]\n",
    "X_train, X_test, y_train, y_test = train_test_split(X, y, test_size=.33, random_state=42)\n",
    "max_depth = int(np.sqrt(X.shape[1]))"
   ]
  },
  {
   "cell_type": "code",
   "execution_count": null,
   "metadata": {},
   "outputs": [],
   "source": [
    "dt = DecisionTree(max_depth=max_depth, desimbalancer=False)\n",
    "dt.fit(X_train, y_train)\n",
    "dt.evaluate(X_test, y_test)"
   ]
  },
  {
   "cell_type": "code",
   "execution_count": null,
   "metadata": {},
   "outputs": [],
   "source": [
    "dt = DecisionTree(max_depth=max_depth, desimbalancer=True)\n",
    "dt.fit(X_train, y_train)\n",
    "dt.evaluate(X_test, y_test)"
   ]
  },
  {
   "attachments": {},
   "cell_type": "markdown",
   "metadata": {},
   "source": [
    "-- # --"
   ]
  },
  {
   "cell_type": "code",
   "execution_count": null,
   "metadata": {},
   "outputs": [],
   "source": [
    "df = pd.read_csv('datasets/iris.csv')\n",
    "#df = categorize_continuous_values(df, ['sepallength', 'sepalwidth', 'petallength', 'petalwidth'])\n",
    "\n",
    "X = df.values[:, 1:-1]\n",
    "y = df['class'].values\n",
    "\n",
    "X_train, X_test, y_train, y_test = train_test_split(X, y, test_size=.33, random_state=42)\n",
    "\n",
    "cols = df.columns[1:-1]\n",
    "dt = DecisionTree(max_depth=5)\n",
    "dt.fit(X_train, y_train)\n",
    "\n",
    "print('iris:\\n')\n",
    "dt.evaluate(X_test, y_test)\n",
    "dt.predict(X_test)\n"
   ]
  },
  {
   "cell_type": "code",
   "execution_count": null,
   "metadata": {},
   "outputs": [],
   "source": [
    "df = pd.read_csv('datasets/penguins_size.csv')\n",
    "df = df.dropna(axis=0)\n",
    "\n",
    "#df = categorize_continuous_values(df, ['culmen_length_mm','culmen_depth_mm','flipper_length_mm','body_mass_g'])\n",
    "\n",
    "X = df.values[:, 1:-1]\n",
    "y = df['species'].values\n",
    "\n",
    "X_train, X_test, y_train, y_test = train_test_split(X, y, test_size=.33, random_state=42)\n",
    "\n",
    "cols = df.columns[1:-1]\n",
    "dt = DecisionTree(cols, max_depth=3)\n",
    "dt.fit(X_train, y_train)\n",
    "\n",
    "print('penguins:\\n')\n",
    "dt.print()\n",
    "dt.evaluate(X_test, y_test)\n"
   ]
  },
  {
   "cell_type": "code",
   "execution_count": null,
   "metadata": {},
   "outputs": [],
   "source": [
    "import openml\n",
    "\n",
    "openml.config.apikey = 'eb60f811ca0d9f4f846d59be082919f9'\n",
    "\n",
    "task = openml.tasks.get_task(3913)\n",
    "\n",
    "dt = DecisionTree(max_depth=8)\n",
    "run = openml.runs.run_model_on_task(dt, task)"
   ]
  }
 ],
 "metadata": {
  "kernelspec": {
   "display_name": "base",
   "language": "python",
   "name": "python3"
  },
  "language_info": {
   "codemirror_mode": {
    "name": "ipython",
    "version": 3
   },
   "file_extension": ".py",
   "mimetype": "text/x-python",
   "name": "python",
   "nbconvert_exporter": "python",
   "pygments_lexer": "ipython3",
   "version": "3.10.3"
  },
  "orig_nbformat": 4,
  "vscode": {
   "interpreter": {
    "hash": "521bd52f7db69f83952e45c69a41cc5a9312142da056b7c563e70a654200e62d"
   }
  }
 },
 "nbformat": 4,
 "nbformat_minor": 2
}
