{
 "cells": [
  {
   "cell_type": "code",
   "execution_count": 1,
   "metadata": {},
   "outputs": [],
   "source": [
    "from decisiontree import DecisionTree\n",
    "\n",
    "import pandas as pd\n",
    "import numpy as np\n",
    "from sklearn.model_selection import train_test_split"
   ]
  },
  {
   "cell_type": "code",
   "execution_count": 2,
   "metadata": {},
   "outputs": [],
   "source": [
    "def categorize_continuous_values(df, cols):\n",
    "    for c in cols:\n",
    "        median = np.median(df[c].values)\n",
    "        median_str = '{:.2f}'.format(median)\n",
    "        df[c] = pd.cut(df[c], bins=[-np.inf, median, np.inf], labels=[f'<={median_str}', f'>{median_str}'])\n",
    "    return df\n",
    "\n",
    "def factorize(df, col):\n",
    "    classes = set(df[col])\n",
    "    class_dict = dict()\n",
    "    inverse_class_dict = dict()\n",
    "    for i, c in enumerate(classes):\n",
    "        class_dict[c] = i\n",
    "        inverse_class_dict[i] = c\n",
    "\n",
    "    df[col] = df[col].apply(lambda x: class_dict[x])\n",
    "    \n",
    "    return df, inverse_class_dict"
   ]
  },
  {
   "cell_type": "code",
   "execution_count": 2,
   "metadata": {},
   "outputs": [
    {
     "name": "stdout",
     "output_type": "stream",
     "text": [
      "iris:\n",
      "\n",
      "\u001b[35m<sepallength>\n",
      "\u001b[37m    >5.75:\n",
      "\u001b[35m        <sepalwidth>\n",
      "\u001b[37m            <=3.00:\n",
      "\u001b[35m                <petalwidth>\n",
      "\u001b[37m                    >1.30:\n",
      "\u001b[35m                        <petallength>\n",
      "\u001b[37m                            <=4.25: \u001b[36mIris-virginica (20)\n",
      "\u001b[37m                            >4.25: \u001b[36mIris-virginica (20)\n",
      "\u001b[37m                    <=1.30: \u001b[36mIris-versicolor (8)\n",
      "\u001b[37m            >3.00:\n",
      "\u001b[35m                <petallength>\n",
      "\u001b[37m                    <=4.25: \u001b[36mIris-setosa (1)\n",
      "\u001b[37m                    >4.25:\n",
      "\u001b[35m                        <petalwidth>\n",
      "\u001b[37m                            >1.30: \u001b[36mIris-virginica (11)\n",
      "\u001b[37m    <=5.75:\n",
      "\u001b[35m        <sepalwidth>\n",
      "\u001b[37m            <=3.00:\n",
      "\u001b[35m                <petallength>\n",
      "\u001b[37m                    <=4.25:\n",
      "\u001b[35m                        <petalwidth>\n",
      "\u001b[37m                            >1.30: \u001b[36mIris-versicolor (14)\n",
      "\u001b[37m                            <=1.30: \u001b[36mIris-versicolor (14)\n",
      "\u001b[37m                    >4.25:\n",
      "\u001b[35m                        <petalwidth>\n",
      "\u001b[37m                            >1.30: \u001b[36mIris-versicolor (3)\n",
      "\u001b[37m                            <=1.30: \u001b[36mIris-versicolor (3)\n",
      "\u001b[37m            >3.00: \u001b[36mIris-setosa (24)\n",
      "\u001b[0m\n"
     ]
    },
    {
     "data": {
      "text/plain": [
       "0.78"
      ]
     },
     "execution_count": 2,
     "metadata": {},
     "output_type": "execute_result"
    }
   ],
   "source": [
    "df = pd.read_csv('datasets/iris.csv')\n",
    "#df = categorize_continuous_values(df, ['sepallength', 'sepalwidth', 'petallength', 'petalwidth'])\n",
    "\n",
    "X = df.values[:, 1:-1]\n",
    "y = df['class'].values\n",
    "\n",
    "X_train, X_test, y_train, y_test = train_test_split(X, y, test_size=.33, random_state=42)\n",
    "\n",
    "cols = df.columns[1:-1]\n",
    "dt = DecisionTree(cols, max_depth=5)\n",
    "dt.fit(X_train, y_train)\n",
    "\n",
    "print('iris:\\n')\n",
    "dt.print()\n",
    "dt.evaluate(X_test, y_test)\n"
   ]
  },
  {
   "cell_type": "code",
   "execution_count": 4,
   "metadata": {},
   "outputs": [
    {
     "name": "stdout",
     "output_type": "stream",
     "text": [
      "penguins:\n",
      "\n",
      "\u001b[35m<island>\n",
      "\u001b[37m    Dream:\n",
      "\u001b[35m        <culmen_length_mm>\n",
      "\u001b[37m            >45.20: \u001b[36mChinstrap (42)\n",
      "\u001b[37m            <=45.20:\n",
      "\u001b[35m                <culmen_depth_mm>\n",
      "\u001b[37m                    <=17.20: \u001b[36mAdelie (10)\n",
      "\u001b[37m                    >17.20: \u001b[36mAdelie (33)\n",
      "\u001b[37m    Biscoe:\n",
      "\u001b[35m        <culmen_length_mm>\n",
      "\u001b[37m            >45.20:\n",
      "\u001b[35m                <culmen_depth_mm>\n",
      "\u001b[37m                    <=17.20: \u001b[36mGentoo (64)\n",
      "\u001b[37m                    >17.20: \u001b[36mAdelie (1)\n",
      "\u001b[37m            <=45.20:\n",
      "\u001b[35m                <flipper_length_mm>\n",
      "\u001b[37m                    >197.00: \u001b[36mGentoo (22)\n",
      "\u001b[37m                    <=197.00: \u001b[36mAdelie (23)\n",
      "\u001b[37m    Torgersen: \u001b[36mAdelie (28)\n",
      "\u001b[0m\n"
     ]
    },
    {
     "data": {
      "text/plain": [
       "0.972972972972973"
      ]
     },
     "execution_count": 4,
     "metadata": {},
     "output_type": "execute_result"
    }
   ],
   "source": [
    "df = pd.read_csv('datasets/penguins_size.csv')\n",
    "df = df.dropna(axis=0)\n",
    "\n",
    "#df = categorize_continuous_values(df, ['culmen_length_mm','culmen_depth_mm','flipper_length_mm','body_mass_g'])\n",
    "\n",
    "X = df.values[:, 1:-1]\n",
    "y = df['species'].values\n",
    "\n",
    "X_train, X_test, y_train, y_test = train_test_split(X, y, test_size=.33, random_state=42)\n",
    "\n",
    "cols = df.columns[1:-1]\n",
    "dt = DecisionTree(cols, max_depth=3)\n",
    "dt.fit(X_train, y_train)\n",
    "\n",
    "print('penguins:\\n')\n",
    "dt.print()\n",
    "dt.evaluate(X_test, y_test)\n"
   ]
  }
 ],
 "metadata": {
  "kernelspec": {
   "display_name": "base",
   "language": "python",
   "name": "python3"
  },
  "language_info": {
   "codemirror_mode": {
    "name": "ipython",
    "version": 3
   },
   "file_extension": ".py",
   "mimetype": "text/x-python",
   "name": "python",
   "nbconvert_exporter": "python",
   "pygments_lexer": "ipython3",
   "version": "3.9.5"
  },
  "orig_nbformat": 4,
  "vscode": {
   "interpreter": {
    "hash": "521bd52f7db69f83952e45c69a41cc5a9312142da056b7c563e70a654200e62d"
   }
  }
 },
 "nbformat": 4,
 "nbformat_minor": 2
}
